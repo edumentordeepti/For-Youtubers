{
 "cells": [
  {
   "cell_type": "markdown",
   "id": "605cafe3-dd58-4992-a27e-f0a2a2abead3",
   "metadata": {},
   "source": [
    "#### Taken a positive integer x. Your task is to check, if it is even or odd (Any number that gives zero as remainder when divided by 2 is an even number).\n",
    "##### Note: Return \"Even\" if the number is even; otherwise, return \"Odd\"."
   ]
  },
  {
   "cell_type": "code",
   "execution_count": 114,
   "id": "780f3543-8644-48ec-aa55-85e2ec15221c",
   "metadata": {},
   "outputs": [
    {
     "name": "stdin",
     "output_type": "stream",
     "text": [
      " 45\n"
     ]
    },
    {
     "name": "stdout",
     "output_type": "stream",
     "text": [
      "Entered number is: 45\n",
      "Odd\n"
     ]
    }
   ],
   "source": [
    "###First take input as a number\n",
    "number=int(input())\n",
    "print(f\"Entered number is:\",number)\n",
    "\n",
    "# check if the number is even or odd\n",
    "if number%2==0:\n",
    "    print(\"Even\")\n",
    "elif number%2!=0:\n",
    "    print(\"Odd\")\n",
    "else:\n",
    "    print(\"We are great\")"
   ]
  },
  {
   "cell_type": "markdown",
   "id": "515418d0-f175-4599-afe2-1cbc5b53593f",
   "metadata": {},
   "source": [
    "#### Accept any City from User and display monument of city.\n",
    "##### List of Cities: Delhi, Agra, Odisha, Kolkata\n",
    "##### List of monuments : Red Fort,Taj Mahal, Puri Temple, Howrah Bridge"
   ]
  },
  {
   "cell_type": "code",
   "execution_count": 118,
   "id": "bb04662e-4d49-4f9c-aaef-1f4cc6283524",
   "metadata": {},
   "outputs": [
    {
     "name": "stdin",
     "output_type": "stream",
     "text": [
      "Enter name of city Jaipur\n"
     ]
    },
    {
     "name": "stdout",
     "output_type": "stream",
     "text": [
      "Enter correct choice of City\n"
     ]
    }
   ],
   "source": [
    "city = input(\"Enter name of city\")\n",
    "if city.lower()=='delhi':\n",
    "    print(\"Monument of Delhi is: Red Fort\")\n",
    "elif city.lower()=='agra':\n",
    "    print(\"Monument of Agra is: Taj Mahal\")\n",
    "elif city.lower()=='odisha':\n",
    "    print(\"Monument of Odisha is: Puri Temple\")\n",
    "elif city.lower()=='kolkata':\n",
    "    print(\"Monument of Kolkata is: Howrah Bridge\")\n",
    "else:\n",
    "    print(\"Enter correct choice of City\")"
   ]
  },
  {
   "cell_type": "markdown",
   "id": "fb5e9479-8d6a-4f89-8adb-1652d77482e9",
   "metadata": {},
   "source": [
    "#### Accept the following from user and calculate the percentage of class attended:\n",
    "a. Total number of working days\n",
    "\n",
    "b. Total number of days of absent\n",
    "\n",
    "Calculate percentage and if percentage is less than 80 then student is not able to sit in the exam"
   ]
  },
  {
   "cell_type": "code",
   "execution_count": 119,
   "id": "13819433-8b51-4f06-826b-b430a0f6ecd2",
   "metadata": {},
   "outputs": [
    {
     "name": "stdin",
     "output_type": "stream",
     "text": [
      "Enter total number of working days 20\n",
      "Enter total number of days absent 2\n"
     ]
    },
    {
     "name": "stdout",
     "output_type": "stream",
     "text": [
      "Your attendance is 90.0\n",
      "You are eligible to sit in examination\n"
     ]
    }
   ],
   "source": [
    "noOfDays= int(input(\"Enter total number of working days\"))\n",
    "noOfAbs=int(input(\"Enter total number of days absent\"))\n",
    "percentage=(noOfDays-noOfAbs)/noOfDays*100\n",
    "\n",
    "#printing percentage\n",
    "print(\"Your attendance is\",percentage)\n",
    "\n",
    "if percentage<80:\n",
    "    print(\"You are not able to sit in examination\")\n",
    "else:\n",
    "    print(\"You are eligible to sit in examination\")"
   ]
  },
  {
   "cell_type": "markdown",
   "id": "48ff6b86-9523-4e4c-b187-c52dbfe732b9",
   "metadata": {},
   "source": [
    "#### Take two set of numbers, find min and max of that set of values.\n",
    "\n",
    "If in set min is equal to second set min then print as \"Equal\"\n",
    "\n",
    "else if set max is equal to second set max then print as \"Equal\"\n",
    "\n",
    "else \"Not Equal\""
   ]
  },
  {
   "cell_type": "code",
   "execution_count": 121,
   "id": "28106672-6bb7-4ce9-a859-dad2a181b3fd",
   "metadata": {},
   "outputs": [
    {
     "name": "stdout",
     "output_type": "stream",
     "text": [
      "minx value: 4\n",
      "maxx value: 10\n",
      "miny value: 8\n",
      "maxy value: 12\n",
      "Not Equal\n"
     ]
    }
   ],
   "source": [
    "import math\n",
    "\n",
    "minx=min(4,6,10)\n",
    "maxx=max(4,6,10)\n",
    "print(\"minx value:\",minx)\n",
    "print(\"maxx value:\",maxx)\n",
    "\n",
    "miny=min(12,8,10)\n",
    "maxy=max(12,8,10)\n",
    "print(\"miny value:\",miny)\n",
    "print(\"maxy value:\",maxy)\n",
    "\n",
    "if minx==miny:\n",
    "    print(\"Equal\")\n",
    "elif maxx==maxy:\n",
    "    print(\"Equal\")\n",
    "else:\n",
    "    print(\"Not Equal\")"
   ]
  },
  {
   "cell_type": "markdown",
   "id": "7cdfd97f-0a0e-487d-90f6-c204066d2b96",
   "metadata": {},
   "source": [
    "#### Take a string input and check whether a particular word is existing or not"
   ]
  },
  {
   "cell_type": "code",
   "execution_count": 122,
   "id": "48999f31-2dad-4177-bc35-5b21640bea3d",
   "metadata": {},
   "outputs": [
    {
     "name": "stdout",
     "output_type": "stream",
     "text": [
      "The string contains the word 'Python'.\n"
     ]
    }
   ],
   "source": [
    "str = \"This is Python Programming\"\n",
    "\n",
    "if \"Python\" in str:\n",
    "    print(\"The string contains the word 'Python'.\")\n",
    "else:\n",
    "    print(\"The string does not contain the word 'Python'.\")"
   ]
  },
  {
   "cell_type": "markdown",
   "id": "165724b1-6741-40fc-8f9d-42797fe8d400",
   "metadata": {},
   "source": [
    "#### Important String operations\n",
    "len()\n",
    "\n",
    "upper()/lower()\n",
    "\n",
    "strip()\n",
    "\n",
    "split()\n",
    "\n",
    "join()\n",
    "\n",
    "replace(old, new)\n",
    "\n",
    "find(substring)/index(substring)\n",
    "\n",
    "startswith(prefix)/endswith(prefix)\n",
    "\n",
    "format()\n",
    "\n",
    "count(substring)\n"
   ]
  },
  {
   "cell_type": "code",
   "execution_count": 124,
   "id": "84a10e54-8e4a-4450-b294-03b690b5d4f4",
   "metadata": {},
   "outputs": [
    {
     "name": "stdout",
     "output_type": "stream",
     "text": [
      "12\n"
     ]
    }
   ],
   "source": [
    "\"\"\"len() function\"\"\"\n",
    "my_str = \"Hello Python\"\n",
    "length = len(my_str)\n",
    "print(length)"
   ]
  },
  {
   "cell_type": "code",
   "execution_count": 125,
   "id": "0ff2e08d-f582-4a5f-9ea9-12b4f13d9e2d",
   "metadata": {},
   "outputs": [
    {
     "name": "stdout",
     "output_type": "stream",
     "text": [
      "HELLO PYTHON\n",
      "hello python\n"
     ]
    }
   ],
   "source": [
    "\"\"\"upper()/lower() function\"\"\"\n",
    "my_str = \"Hello Python\"\n",
    "uppertxt = my_str.upper()\n",
    "lowertxt = my_str.lower()\n",
    "print(uppertxt)\n",
    "print(lowertxt)"
   ]
  },
  {
   "cell_type": "code",
   "execution_count": 126,
   "id": "710e5f8a-4038-429b-ae19-4860c566802b",
   "metadata": {},
   "outputs": [
    {
     "name": "stdout",
     "output_type": "stream",
     "text": [
      "Hello Python\n"
     ]
    }
   ],
   "source": [
    "\"\"\"strip() function\"\"\"\n",
    "my_str = \"  Hello Python  \"\n",
    "stripped_txt = my_str.strip()\n",
    "print(stripped_txt)"
   ]
  },
  {
   "cell_type": "code",
   "execution_count": 60,
   "id": "eb63ed90-b9b0-4e48-9e5e-d3c229bb64b5",
   "metadata": {},
   "outputs": [
    {
     "name": "stdout",
     "output_type": "stream",
     "text": [
      "['Hello', 'Python', 'Programming']\n"
     ]
    }
   ],
   "source": [
    "\"\"\"split() function\"\"\"\n",
    "my_str = \"Hello Python Programming\"\n",
    "split_txt = my_str.split()\n",
    "print(split_txt)"
   ]
  },
  {
   "cell_type": "code",
   "execution_count": 127,
   "id": "9c729338-1227-499d-94da-537b33959e0e",
   "metadata": {},
   "outputs": [
    {
     "name": "stdout",
     "output_type": "stream",
     "text": [
      "Hello_Python\n"
     ]
    }
   ],
   "source": [
    "\"\"\"join() function\"\"\"\n",
    "word_list = [\"Hello\", \"Python\"]\n",
    "joined_txt = \"_\".join(word_list)\n",
    "print(joined_txt)"
   ]
  },
  {
   "cell_type": "code",
   "execution_count": 128,
   "id": "e7d8e303-a5f4-4de9-96ea-a031e6e8a1a5",
   "metadata": {},
   "outputs": [
    {
     "name": "stdout",
     "output_type": "stream",
     "text": [
      "I like Python Coding classes\n"
     ]
    }
   ],
   "source": [
    "\"\"\"replace() function\"\"\"\n",
    "original = \"I like Python Programming classes\"\n",
    "new = original.replace(\"Programming\",\"Coding\")\n",
    "print(new)"
   ]
  },
  {
   "cell_type": "code",
   "execution_count": 129,
   "id": "a63057cd-c715-4fc1-a05a-e4834870adca",
   "metadata": {},
   "outputs": [
    {
     "name": "stdout",
     "output_type": "stream",
     "text": [
      "The position is: 7\n"
     ]
    }
   ],
   "source": [
    "\"\"\"find()/index() function\"\"\"\n",
    "txt = \"I like Python Programming classes\"\n",
    "position = txt.find(\"Py\")\n",
    "print(\"The position is:\",position)"
   ]
  },
  {
   "cell_type": "code",
   "execution_count": 130,
   "id": "8967caa2-0df1-4967-8c7f-606202ebc6ab",
   "metadata": {},
   "outputs": [
    {
     "name": "stdout",
     "output_type": "stream",
     "text": [
      "True\n",
      "False\n"
     ]
    }
   ],
   "source": [
    "\"\"\"startswith()/endswith() function\"\"\"\n",
    "filename = \"pythonFile.py\"\n",
    "fileendType = filename.endswith(\".py\")\n",
    "filestartType = filename.startswith(\"Py\")\n",
    "print(fileendType)\n",
    "print(filestartType)"
   ]
  },
  {
   "cell_type": "code",
   "execution_count": 131,
   "id": "1e834b6c-1169-47bb-8edc-38ecf6379253",
   "metadata": {},
   "outputs": [
    {
     "name": "stdout",
     "output_type": "stream",
     "text": [
      "3\n"
     ]
    }
   ],
   "source": [
    "\"\"\"count() function\"\"\"\n",
    "text = \"pineapple\"\n",
    "count_text = text.count('p')\n",
    "print(count_text)"
   ]
  },
  {
   "cell_type": "code",
   "execution_count": null,
   "id": "c7a839a4-3a40-43cc-9623-b14fa01d31bf",
   "metadata": {},
   "outputs": [],
   "source": [
    "#f\"My name is {name} and I am learning {subject}.\""
   ]
  },
  {
   "cell_type": "markdown",
   "id": "a5883dc6-a74f-40f7-b8d6-bfbd7491a87d",
   "metadata": {},
   "source": [
    "### ----------------Match Case-------------------\n",
    "#### There are several examples of match case \n",
    "1. Matching values\n",
    "\n",
    "2. Matching Tuples\n",
    "\n",
    "3. Matching with conditional if statements\n",
    "\n",
    "4. Matching dictionaries\n",
    "\n",
    "5. Matching objects"
   ]
  },
  {
   "cell_type": "code",
   "execution_count": 132,
   "id": "6dcf303c-4e03-4a0d-bd4b-e8469ff99572",
   "metadata": {},
   "outputs": [
    {
     "name": "stdout",
     "output_type": "stream",
     "text": [
      "July\n"
     ]
    }
   ],
   "source": [
    "month = 7\n",
    "match month:\n",
    "  case 1:\n",
    "    print(\"January\")\n",
    "  case 2:\n",
    "    print(\"February\")\n",
    "  case 3:\n",
    "    print(\"March\")\n",
    "  case 4:\n",
    "    print(\"April\")\n",
    "  case 5:\n",
    "    print(\"May\")\n",
    "  case 6:\n",
    "    print(\"June\")\n",
    "  case 7:\n",
    "    print(\"July\")\n",
    "  case 8:\n",
    "    print(\"August\")\n",
    "  case 9:\n",
    "    print(\"September\")\n",
    "  case 10:\n",
    "    print(\"October\")\n",
    "  case 11:\n",
    "    print(\"November\")\n",
    "  case 12:\n",
    "    print(\"December\")"
   ]
  },
  {
   "cell_type": "code",
   "execution_count": 80,
   "id": "8d00c8cc-bf17-4357-8233-ce7ca62f659a",
   "metadata": {},
   "outputs": [
    {
     "name": "stdout",
     "output_type": "stream",
     "text": [
      "Looking forward to the Weekend\n"
     ]
    }
   ],
   "source": [
    "\"\"\" This is a case of default match case\"\"\"\n",
    "day = 4\n",
    "match day:\n",
    "  case 6:\n",
    "    print(\"Today is Saturday\")\n",
    "  case 7:\n",
    "    print(\"Today is Sunday\")\n",
    "  case _:\n",
    "    print(\"Looking forward to the Weekend\")"
   ]
  },
  {
   "cell_type": "code",
   "execution_count": 134,
   "id": "48486910-49d7-4593-9569-808ce27d41d9",
   "metadata": {},
   "outputs": [
    {
     "name": "stdout",
     "output_type": "stream",
     "text": [
      "I love weekends!\n"
     ]
    }
   ],
   "source": [
    "\"\"\"Using Piping in Match case\"\"\"\n",
    "day = 6\n",
    "match day:\n",
    "  case 1 | 2 | 3 | 4 | 5:\n",
    "    print(\"Today is a weekday\")\n",
    "  case 6 | 7:\n",
    "    print(\"I love weekends!\")"
   ]
  },
  {
   "cell_type": "code",
   "execution_count": 135,
   "id": "eb8cff45-f3df-4232-a110-e7324fd5a826",
   "metadata": {},
   "outputs": [
    {
     "name": "stdout",
     "output_type": "stream",
     "text": [
      "Pure Red\n",
      "Pure Green\n"
     ]
    }
   ],
   "source": [
    "class Color:\n",
    "    def __init__(self, r, g, b):\n",
    "            self.r = r\n",
    "            self.g = g\n",
    "            self.b = b\n",
    "\n",
    "def describe_color(color_obj):\n",
    "        match color_obj:\n",
    "            case Color(r=255, g=0, b=0):\n",
    "                return \"Pure Red\"\n",
    "            case Color(r=0, g=255, b=0):\n",
    "                return \"Pure Green\"\n",
    "            case Color(r, g, b):\n",
    "                return f\"RGB: ({r}, {g}, {b})\"\n",
    "\n",
    "red = Color(255, 0, 0)\n",
    "green = Color(0, 255, 0)\n",
    "print(describe_color(red))\n",
    "print(describe_color(green))"
   ]
  },
  {
   "cell_type": "code",
   "execution_count": null,
   "id": "e4f26989-cbaf-4bb8-a24f-63ba0e295d34",
   "metadata": {},
   "outputs": [],
   "source": []
  }
 ],
 "metadata": {
  "kernelspec": {
   "display_name": "Python 3 (ipykernel)",
   "language": "python",
   "name": "python3"
  },
  "language_info": {
   "codemirror_mode": {
    "name": "ipython",
    "version": 3
   },
   "file_extension": ".py",
   "mimetype": "text/x-python",
   "name": "python",
   "nbconvert_exporter": "python",
   "pygments_lexer": "ipython3",
   "version": "3.13.5"
  }
 },
 "nbformat": 4,
 "nbformat_minor": 5
}
