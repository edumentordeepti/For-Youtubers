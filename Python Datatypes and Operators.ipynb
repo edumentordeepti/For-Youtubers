{
 "cells": [
  {
   "cell_type": "code",
   "execution_count": 1,
   "id": "acae12e6-42cf-49c6-bf6d-b61c47e986ec",
   "metadata": {},
   "outputs": [
    {
     "data": {
      "text/plain": [
       "5"
      ]
     },
     "execution_count": 1,
     "metadata": {},
     "output_type": "execute_result"
    }
   ],
   "source": [
    "#Print sum of 5 numbers\n",
    "1+1+1+1+1"
   ]
  },
  {
   "cell_type": "code",
   "execution_count": 3,
   "id": "42381b2e-6482-45f0-95c3-9a45e3c91d48",
   "metadata": {},
   "outputs": [
    {
     "data": {
      "text/plain": [
       "3"
      ]
     },
     "execution_count": 3,
     "metadata": {},
     "output_type": "execute_result"
    }
   ],
   "source": [
    "#print difference of 3 numbers\n",
    "10-3-4"
   ]
  },
  {
   "cell_type": "code",
   "execution_count": 4,
   "id": "8721b0c0-7fb5-4e3a-aff0-817579206fd1",
   "metadata": {},
   "outputs": [
    {
     "name": "stdout",
     "output_type": "stream",
     "text": [
      "61.666666666666664\n"
     ]
    }
   ],
   "source": [
    "#Calculate the average age of three people\n",
    "age1=25\n",
    "age2=30\n",
    "age3=20\n",
    "\n",
    "avg=age1+age2+age3/3\n",
    "print(avg)"
   ]
  },
  {
   "cell_type": "code",
   "execution_count": 5,
   "id": "1d235d93-0b6e-43ac-a1fd-ef3ddafc45b9",
   "metadata": {},
   "outputs": [
    {
     "data": {
      "text/plain": [
       "5"
      ]
     },
     "execution_count": 5,
     "metadata": {},
     "output_type": "execute_result"
    }
   ],
   "source": [
    "#the number of times 5 comes in 100\n",
    "100//20"
   ]
  },
  {
   "cell_type": "code",
   "execution_count": 6,
   "id": "d6491521-4126-48b9-bbf8-715732d09342",
   "metadata": {},
   "outputs": [
    {
     "data": {
      "text/plain": [
       "3125"
      ]
     },
     "execution_count": 6,
     "metadata": {},
     "output_type": "execute_result"
    }
   ],
   "source": [
    "#power of 5 to 5\n",
    "#5*5*5*5*5*5\n",
    "5**5 "
   ]
  },
  {
   "cell_type": "code",
   "execution_count": 7,
   "id": "3768e990-b757-434e-a2a7-019e5402b8a6",
   "metadata": {},
   "outputs": [
    {
     "name": "stdout",
     "output_type": "stream",
     "text": [
      "1000000\n"
     ]
    }
   ],
   "source": [
    "#get salary of an employee by multiplying grosspay to 20\n",
    "gross=50000\n",
    "Salary=gross*20\n",
    "print(Salary)"
   ]
  },
  {
   "cell_type": "code",
   "execution_count": 49,
   "id": "e97ba658-2224-48b1-aaad-be445031f947",
   "metadata": {},
   "outputs": [
    {
     "data": {
      "text/plain": [
       "2"
      ]
     },
     "execution_count": 49,
     "metadata": {},
     "output_type": "execute_result"
    }
   ],
   "source": [
    "#Modulo operator (it means it will print reminder of any division)\n",
    "90%8"
   ]
  },
  {
   "cell_type": "code",
   "execution_count": 9,
   "id": "8d155abb-4c37-42f7-8e23-b0455bae7a0b",
   "metadata": {},
   "outputs": [
    {
     "data": {
      "text/plain": [
       "int"
      ]
     },
     "execution_count": 9,
     "metadata": {},
     "output_type": "execute_result"
    }
   ],
   "source": [
    "#datatypes examples\n",
    "x=20\n",
    "type(x)"
   ]
  },
  {
   "cell_type": "code",
   "execution_count": 10,
   "id": "fe9ee173-8d7a-45a4-823e-c8b2737dcee4",
   "metadata": {},
   "outputs": [
    {
     "data": {
      "text/plain": [
       "float"
      ]
     },
     "execution_count": 10,
     "metadata": {},
     "output_type": "execute_result"
    }
   ],
   "source": [
    "x=3.5\n",
    "type(x)"
   ]
  },
  {
   "cell_type": "code",
   "execution_count": 11,
   "id": "abfa9390-f958-4a5c-9b0d-81046abbf889",
   "metadata": {},
   "outputs": [
    {
     "data": {
      "text/plain": [
       "str"
      ]
     },
     "execution_count": 11,
     "metadata": {},
     "output_type": "execute_result"
    }
   ],
   "source": [
    "x='true'\n",
    "type(x)"
   ]
  },
  {
   "cell_type": "code",
   "execution_count": 12,
   "id": "e117a4c8-96cc-4568-92b6-e431df3af6cc",
   "metadata": {},
   "outputs": [
    {
     "data": {
      "text/plain": [
       "bool"
      ]
     },
     "execution_count": 12,
     "metadata": {},
     "output_type": "execute_result"
    }
   ],
   "source": [
    "x=True\n",
    "type(x)"
   ]
  },
  {
   "cell_type": "code",
   "execution_count": 53,
   "id": "95545b7f-55b0-4408-966a-410acbefe071",
   "metadata": {},
   "outputs": [
    {
     "data": {
      "text/plain": [
       "str"
      ]
     },
     "execution_count": 53,
     "metadata": {},
     "output_type": "execute_result"
    }
   ],
   "source": [
    "x=\"This is my class\"\n",
    "type(x)"
   ]
  },
  {
   "cell_type": "code",
   "execution_count": 13,
   "id": "85dc3a9f-b491-4876-acdc-297a1275f917",
   "metadata": {},
   "outputs": [
    {
     "data": {
      "text/plain": [
       "tuple"
      ]
     },
     "execution_count": 13,
     "metadata": {},
     "output_type": "execute_result"
    }
   ],
   "source": [
    "x=('1','2','3','4','5')\n",
    "type(x)"
   ]
  },
  {
   "cell_type": "code",
   "execution_count": 14,
   "id": "2c25281e-cce0-440e-bd06-c153d1a5d576",
   "metadata": {},
   "outputs": [
    {
     "data": {
      "text/plain": [
       "list"
      ]
     },
     "execution_count": 14,
     "metadata": {},
     "output_type": "execute_result"
    }
   ],
   "source": [
    "x=['1','2','3','4','5']\n",
    "type(x)"
   ]
  },
  {
   "cell_type": "code",
   "execution_count": 15,
   "id": "9c15d166-1d4a-476b-9e0d-750efcbc7ad7",
   "metadata": {},
   "outputs": [
    {
     "data": {
      "text/plain": [
       "dict"
      ]
     },
     "execution_count": 15,
     "metadata": {},
     "output_type": "execute_result"
    }
   ],
   "source": [
    "x={'name':'Python','type':'class'}\n",
    "type(x)"
   ]
  },
  {
   "cell_type": "code",
   "execution_count": 57,
   "id": "2b20e74f-ed0d-49fe-872b-849d74d2ae0d",
   "metadata": {},
   "outputs": [
    {
     "data": {
      "text/plain": [
       "set"
      ]
     },
     "execution_count": 57,
     "metadata": {},
     "output_type": "execute_result"
    }
   ],
   "source": [
    "x = {\"apple\", \"banana\", \"cherry\"}\n",
    "type(x)"
   ]
  },
  {
   "cell_type": "code",
   "execution_count": 16,
   "id": "c7417300-65f3-4342-9fb4-57c55c73eadc",
   "metadata": {},
   "outputs": [
    {
     "data": {
      "text/plain": [
       "complex"
      ]
     },
     "execution_count": 16,
     "metadata": {},
     "output_type": "execute_result"
    }
   ],
   "source": [
    "x=3+4j\n",
    "type(x)"
   ]
  },
  {
   "cell_type": "code",
   "execution_count": 18,
   "id": "72cae95f-2c83-4dda-8253-86d391e02a15",
   "metadata": {},
   "outputs": [
    {
     "name": "stdout",
     "output_type": "stream",
     "text": [
      "range(2, 7)\n"
     ]
    }
   ],
   "source": [
    "x=range(2,7)\n",
    "type(x)\n",
    "print(x)"
   ]
  },
  {
   "cell_type": "code",
   "execution_count": 60,
   "id": "fedad5dc-070c-4573-aa86-bc2dfb3d9ae7",
   "metadata": {},
   "outputs": [
    {
     "data": {
      "text/plain": [
       "bool"
      ]
     },
     "execution_count": 60,
     "metadata": {},
     "output_type": "execute_result"
    }
   ],
   "source": [
    "x=True\n",
    "type(x)"
   ]
  },
  {
   "cell_type": "code",
   "execution_count": 21,
   "id": "0469dcda-a0b4-4818-aa18-1b9419df16bd",
   "metadata": {},
   "outputs": [
    {
     "name": "stdout",
     "output_type": "stream",
     "text": [
      "b'This is a python class'\n"
     ]
    }
   ],
   "source": [
    "x= b\"This is a python class\"\n",
    "type(x)\n",
    "print(x)"
   ]
  },
  {
   "cell_type": "code",
   "execution_count": 20,
   "id": "5e3493ec-4fe3-429d-8953-7189fe2c9992",
   "metadata": {},
   "outputs": [
    {
     "name": "stdout",
     "output_type": "stream",
     "text": [
      "b'Hello'\n"
     ]
    }
   ],
   "source": [
    "x = bytes([72, 101, 108, 108, 111]) \n",
    "type(x)\n",
    "print(x)"
   ]
  },
  {
   "cell_type": "code",
   "execution_count": 22,
   "id": "19d6f68d-5ced-4449-a597-a5a308781118",
   "metadata": {},
   "outputs": [
    {
     "name": "stdout",
     "output_type": "stream",
     "text": [
      "b'\\x00\\x00\\x00\\x00\\x00'\n"
     ]
    }
   ],
   "source": [
    "empty = bytes(5) #Empty bytes\n",
    "type(empty)\n",
    "print(empty)"
   ]
  },
  {
   "cell_type": "code",
   "execution_count": 23,
   "id": "c43b9bc7-9a13-44d7-9b27-f1de1ddb98e6",
   "metadata": {},
   "outputs": [
    {
     "data": {
      "text/plain": [
       "memoryview"
      ]
     },
     "execution_count": 23,
     "metadata": {},
     "output_type": "execute_result"
    }
   ],
   "source": [
    "data_bytes = b\"Hello, memoryview!\"\n",
    "#It directly able to access the data byte internal memory without consuming any additional mem and bytearray and helpful for large datasets\n",
    "mv = memoryview(data_bytes) \n",
    "type(mv)"
   ]
  },
  {
   "cell_type": "code",
   "execution_count": 65,
   "id": "d5e8ee16-5b86-47f7-a159-59388e45a47f",
   "metadata": {},
   "outputs": [
    {
     "name": "stdout",
     "output_type": "stream",
     "text": [
      "72\n"
     ]
    }
   ],
   "source": [
    "print(mv[0]) #prints ascii value of databytes of first element"
   ]
  },
  {
   "cell_type": "code",
   "execution_count": 24,
   "id": "2630e601-b528-4f6c-8194-5fbbc3eee4d4",
   "metadata": {},
   "outputs": [
    {
     "data": {
      "text/plain": [
       "'d'"
      ]
     },
     "execution_count": 24,
     "metadata": {},
     "output_type": "execute_result"
    }
   ],
   "source": [
    "#Indexing and slicing\n",
    "#string values are stored in form of an array starting from 0th position to n-1 position\n",
    "str='abcdefghijklmnopqrstuvwxyz'\n",
    "str[3]"
   ]
  },
  {
   "cell_type": "code",
   "execution_count": 25,
   "id": "9aa40b8c-c7e5-468d-8df2-5536b4d8bb18",
   "metadata": {},
   "outputs": [
    {
     "data": {
      "text/plain": [
       "'h'"
      ]
     },
     "execution_count": 25,
     "metadata": {},
     "output_type": "execute_result"
    }
   ],
   "source": [
    "str[7]"
   ]
  },
  {
   "cell_type": "code",
   "execution_count": 28,
   "id": "4ee710dd-0ce7-4367-b3c8-77180b272aaf",
   "metadata": {},
   "outputs": [
    {
     "name": "stdout",
     "output_type": "stream",
     "text": [
      "['b', 'c']\n",
      "['b', 'c', 'd']\n"
     ]
    }
   ],
   "source": [
    "s=['a','b','c','d','e','f']\n",
    "print(s[1:3])\n",
    "print(s[1:4])"
   ]
  },
  {
   "cell_type": "code",
   "execution_count": 30,
   "id": "e5a75307-75b3-44cd-93e3-0ae6a291c1fd",
   "metadata": {},
   "outputs": [
    {
     "data": {
      "text/plain": [
       "'de'"
      ]
     },
     "execution_count": 30,
     "metadata": {},
     "output_type": "execute_result"
    }
   ],
   "source": [
    "#Slicing works with the last index value treated as n-1\n",
    "str[3:5]"
   ]
  },
  {
   "cell_type": "code",
   "execution_count": 31,
   "id": "210248da-7757-47ac-b42e-6a04206eb7ac",
   "metadata": {},
   "outputs": [
    {
     "data": {
      "text/plain": [
       "'defg'"
      ]
     },
     "execution_count": 31,
     "metadata": {},
     "output_type": "execute_result"
    }
   ],
   "source": [
    "str='abcdefghijklmnopqrstuvwxyz'\n",
    "str[3:7]"
   ]
  },
  {
   "cell_type": "code",
   "execution_count": 72,
   "id": "700c6b95-ce8a-4e53-91e4-40c3bc2c99f9",
   "metadata": {},
   "outputs": [
    {
     "name": "stdout",
     "output_type": "stream",
     "text": [
      "3\n",
      "4\n",
      "5\n"
     ]
    }
   ],
   "source": [
    "#Tuples and its methods\n",
    "tup=('a','b','c','d','e','f','g','h')\n",
    "print(tup.index('d'))\n",
    "print(tup.index('e'))\n",
    "print(tup.index('f'))"
   ]
  },
  {
   "cell_type": "code",
   "execution_count": 80,
   "id": "89047691-04d8-424d-94a6-c8d64b1c7be2",
   "metadata": {},
   "outputs": [],
   "source": [
    "from IPython.display import display #another way of writing print statements"
   ]
  },
  {
   "cell_type": "code",
   "execution_count": 33,
   "id": "0c9b9610-9ef5-4224-9203-57144c4a024a",
   "metadata": {},
   "outputs": [
    {
     "data": {
      "text/plain": [
       "3"
      ]
     },
     "metadata": {},
     "output_type": "display_data"
    },
    {
     "data": {
      "text/plain": [
       "4"
      ]
     },
     "metadata": {},
     "output_type": "display_data"
    }
   ],
   "source": [
    "#Tuples and its methods\n",
    "tup=('a','b','c','d','e','f','g','h')\n",
    "display(tup.index('d'))\n",
    "display(tup.index('e'))"
   ]
  },
  {
   "cell_type": "code",
   "execution_count": 78,
   "id": "4606b4f8-2a75-4b27-829d-c3abcb592f76",
   "metadata": {},
   "outputs": [
    {
     "name": "stdout",
     "output_type": "stream",
     "text": [
      "3\n",
      "2\n",
      "2\n"
     ]
    }
   ],
   "source": [
    "tup=('a','a','a','b','b','c','c','d')\n",
    "print(tup.count('a'))\n",
    "print(tup.count('b'))\n",
    "print(tup.count('c'))"
   ]
  },
  {
   "cell_type": "code",
   "execution_count": 79,
   "id": "65fca5bb-cd03-46b9-8cfd-d69849dd37df",
   "metadata": {},
   "outputs": [
    {
     "data": {
      "text/plain": [
       "('1', '2', '3', '3', '4', '4', '5', '5', '6', '6')"
      ]
     },
     "execution_count": 79,
     "metadata": {},
     "output_type": "execute_result"
    }
   ],
   "source": [
    "t1=tuple(\"1233445566\") #a simple string can be converted to tuple\n",
    "t1"
   ]
  },
  {
   "cell_type": "markdown",
   "id": "430e71f3-fcff-4eb6-b269-d329dbf9fabf",
   "metadata": {},
   "source": [
    "### List Assignments and operations\n",
    "#### Characteristics of list\n",
    "##### 1. Lists are ordered\n",
    "##### 2. Lists are mutable\n",
    "##### 3. Lists contain duplicate values"
   ]
  },
  {
   "cell_type": "code",
   "execution_count": 34,
   "id": "c6f520b4-20bb-45cd-ad63-a42b5693d0ad",
   "metadata": {},
   "outputs": [
    {
     "name": "stdout",
     "output_type": "stream",
     "text": [
      "['python', 'Java', 'C', 'C#', 'C++']\n"
     ]
    }
   ],
   "source": [
    "type =[\"python\",\"Java\",\"C\",\"C#\",\"C++\"]\n",
    "print(type)"
   ]
  },
  {
   "cell_type": "code",
   "execution_count": 35,
   "id": "85b3db4d-7775-483e-b829-1fa6b53c5dae",
   "metadata": {},
   "outputs": [
    {
     "name": "stdout",
     "output_type": "stream",
     "text": [
      "[]\n"
     ]
    }
   ],
   "source": [
    "empty=[] #Empty type list\n",
    "print(empty)"
   ]
  },
  {
   "cell_type": "code",
   "execution_count": 36,
   "id": "82834958-b11e-4c6a-9f4a-4d2f9039e05f",
   "metadata": {},
   "outputs": [
    {
     "name": "stdout",
     "output_type": "stream",
     "text": [
      "C\n",
      "Java\n",
      "python\n"
     ]
    }
   ],
   "source": [
    "#Accessing elemnents\n",
    "print(type[2])\n",
    "print(type[1])\n",
    "print(type[0])"
   ]
  },
  {
   "cell_type": "code",
   "execution_count": 86,
   "id": "29af3840-5dcc-4651-8b6a-c2dc0e8a4495",
   "metadata": {},
   "outputs": [
    {
     "name": "stdout",
     "output_type": "stream",
     "text": [
      "['python', 'Java', 'C', 'C#', 'C++', 'python', 'python']\n"
     ]
    }
   ],
   "source": [
    "type =[\"python\",\"Java\",\"C\",\"C#\",\"C++\",\"python\",\"python\"]\n",
    "print(type)"
   ]
  },
  {
   "cell_type": "code",
   "execution_count": 37,
   "id": "45802d1e-1a20-48cd-8262-54ff2a04e9b1",
   "metadata": {},
   "outputs": [
    {
     "name": "stdout",
     "output_type": "stream",
     "text": [
      "['python', 'Java', 'C', 'C#', 'C++', 'java']\n"
     ]
    }
   ],
   "source": [
    "type =[\"python\",\"Java\",\"C\",\"C#\",\"C++\"]\n",
    "type.append('java')\n",
    "print(type)"
   ]
  },
  {
   "cell_type": "markdown",
   "id": "9a7b89e5-486c-49c7-a04d-5df05e602263",
   "metadata": {},
   "source": [
    "#### Negetive slicing concept"
   ]
  },
  {
   "cell_type": "code",
   "execution_count": 49,
   "id": "f06cc3e2-8ae7-436e-a9be-0e95c5e45196",
   "metadata": {},
   "outputs": [
    {
     "data": {
      "text/plain": [
       "['c']"
      ]
     },
     "execution_count": 49,
     "metadata": {},
     "output_type": "execute_result"
    }
   ],
   "source": [
    "s=['a','b','c','d','e']\n",
    "s[-3:-2]"
   ]
  },
  {
   "cell_type": "code",
   "execution_count": 48,
   "id": "34bb3b9d-026d-40dd-b2a6-06c7de23ad05",
   "metadata": {},
   "outputs": [
    {
     "data": {
      "text/plain": [
       "'java'"
      ]
     },
     "execution_count": 48,
     "metadata": {},
     "output_type": "execute_result"
    }
   ],
   "source": [
    "type[-1]"
   ]
  },
  {
   "cell_type": "code",
   "execution_count": 47,
   "id": "2000c69e-b408-4a48-824e-9940c1fa5d76",
   "metadata": {},
   "outputs": [
    {
     "data": {
      "text/plain": [
       "'C#'"
      ]
     },
     "execution_count": 47,
     "metadata": {},
     "output_type": "execute_result"
    }
   ],
   "source": [
    "type[-3]"
   ]
  },
  {
   "cell_type": "code",
   "execution_count": 53,
   "id": "7cf66d93-b5bc-426b-8b12-d4698c63bba5",
   "metadata": {},
   "outputs": [
    {
     "data": {
      "text/plain": [
       "'python'"
      ]
     },
     "execution_count": 53,
     "metadata": {},
     "output_type": "execute_result"
    }
   ],
   "source": [
    "type[-6]"
   ]
  },
  {
   "cell_type": "code",
   "execution_count": 54,
   "id": "03a4e78f-7205-4f27-8840-b65d3abf76de",
   "metadata": {},
   "outputs": [
    {
     "data": {
      "text/plain": [
       "['python', 'Java', 'C', 'C#', 'C++']"
      ]
     },
     "execution_count": 54,
     "metadata": {},
     "output_type": "execute_result"
    }
   ],
   "source": [
    "type[-7:-1]"
   ]
  },
  {
   "cell_type": "code",
   "execution_count": 96,
   "id": "ddfbc22b-bbc4-44a6-8e7c-7191cb39d880",
   "metadata": {},
   "outputs": [
    {
     "data": {
      "text/plain": [
       "['python', 'Java', 'C', 'C#', 'C++', 'python', 'python']"
      ]
     },
     "execution_count": 96,
     "metadata": {},
     "output_type": "execute_result"
    }
   ],
   "source": [
    "type[0:7]"
   ]
  },
  {
   "cell_type": "code",
   "execution_count": 55,
   "id": "464da769-4b9b-40b2-8cad-44e32f680f67",
   "metadata": {},
   "outputs": [
    {
     "data": {
      "text/plain": [
       "['Java', 'C', 'C#', 'C++', 'java']"
      ]
     },
     "execution_count": 55,
     "metadata": {},
     "output_type": "execute_result"
    }
   ],
   "source": [
    "type[1:]"
   ]
  },
  {
   "cell_type": "code",
   "execution_count": 56,
   "id": "c83d3023-975a-4c6b-97be-5e64cea2c2c9",
   "metadata": {},
   "outputs": [
    {
     "data": {
      "text/plain": [
       "['python', 'Java', 'C', 'C#', 'C++', 'java']"
      ]
     },
     "execution_count": 56,
     "metadata": {},
     "output_type": "execute_result"
    }
   ],
   "source": [
    "type[:7]"
   ]
  },
  {
   "cell_type": "code",
   "execution_count": 57,
   "id": "7a183078-8d9d-4651-81b8-69cd696755a7",
   "metadata": {},
   "outputs": [
    {
     "name": "stdout",
     "output_type": "stream",
     "text": [
      "['python', 'Java', 'C', 'perl', 'C#', 'C++', 'java']\n"
     ]
    }
   ],
   "source": [
    "#add element at specified index\n",
    "type.insert(3,\"perl\")\n",
    "print(type)"
   ]
  },
  {
   "cell_type": "code",
   "execution_count": 59,
   "id": "55d3ec1f-2d0c-42c3-8e97-c79c573414ee",
   "metadata": {},
   "outputs": [
    {
     "name": "stdout",
     "output_type": "stream",
     "text": [
      "updated list: ['a', 'b', 'c', 'd', 'e', 'd', 'e', 'f', 'g']\n"
     ]
    }
   ],
   "source": [
    "#extending to another list\n",
    "list1=['a','b','c','d','e']\n",
    "list2=['d','e','f','g']\n",
    "list1.extend(list2)\n",
    "print(\"updated list:\",list1)"
   ]
  },
  {
   "cell_type": "code",
   "execution_count": 60,
   "id": "bff7b6ca-b181-4744-bce1-2798d17f78e3",
   "metadata": {},
   "outputs": [
    {
     "name": "stdout",
     "output_type": "stream",
     "text": [
      "['apple', 'pear', 'cherry', 'tomato']\n"
     ]
    }
   ],
   "source": [
    "#Change list items\n",
    "list1=['apple','banana','cherry','tomato']\n",
    "list1[1]='pear'\n",
    "print(list1)"
   ]
  },
  {
   "cell_type": "code",
   "execution_count": 62,
   "id": "fa465964-178c-4bc1-a354-073a2f574303",
   "metadata": {},
   "outputs": [
    {
     "name": "stdout",
     "output_type": "stream",
     "text": [
      "['d', 'f', 'g']\n"
     ]
    }
   ],
   "source": [
    "#Removing an elemnent from list\n",
    "list2=['d','e','f','g']\n",
    "list2.remove('e')\n",
    "print(list2)"
   ]
  },
  {
   "cell_type": "code",
   "execution_count": 63,
   "id": "6fcd94d9-b8af-4066-9063-51431a0231b9",
   "metadata": {},
   "outputs": [
    {
     "name": "stdout",
     "output_type": "stream",
     "text": [
      "['apple', 'cherry', 'tomato', 'jackfruit', 'pear']\n"
     ]
    }
   ],
   "source": [
    "#deleting from list\n",
    "#Note-----Once you delete some items from list those are not reversible\n",
    "list1=['apple','banana','cherry','tomato','jackfruit','pear']\n",
    "del list1[1]\n",
    "print(list1)"
   ]
  },
  {
   "cell_type": "code",
   "execution_count": 106,
   "id": "2033389d-c874-42c9-875a-3d95d7fbb97a",
   "metadata": {},
   "outputs": [
    {
     "name": "stdout",
     "output_type": "stream",
     "text": [
      "['apple', 'tomato', 'jackfruit', 'pear']\n"
     ]
    }
   ],
   "source": [
    "del list1[1:2]\n",
    "print(list1)"
   ]
  },
  {
   "cell_type": "code",
   "execution_count": 64,
   "id": "bad71aad-3c2c-45dc-a6b6-ab74bc83664c",
   "metadata": {},
   "outputs": [
    {
     "name": "stdout",
     "output_type": "stream",
     "text": [
      "['apple', 'cherry', 'jackfruit', 'pear', 'tomato']\n"
     ]
    }
   ],
   "source": [
    "list1.sort()\n",
    "print(list1)"
   ]
  },
  {
   "cell_type": "code",
   "execution_count": 65,
   "id": "337aa4c5-ac5f-44e9-bfb4-b8f93720b411",
   "metadata": {},
   "outputs": [
    {
     "name": "stdout",
     "output_type": "stream",
     "text": [
      "['tomato', 'pear', 'jackfruit', 'cherry', 'apple']\n"
     ]
    }
   ],
   "source": [
    "list1.reverse()\n",
    "print(list1)"
   ]
  },
  {
   "cell_type": "code",
   "execution_count": 67,
   "id": "cb43b432-6bbc-4d47-af4e-144dd6a5c1fb",
   "metadata": {},
   "outputs": [
    {
     "name": "stdout",
     "output_type": "stream",
     "text": [
      "['tomato', 'pear', 'jackfruit', 'cherry', 'apple']\n"
     ]
    }
   ],
   "source": [
    "list2=list1.copy()\n",
    "print(list2)"
   ]
  },
  {
   "cell_type": "markdown",
   "id": "5116cf53-7797-4601-8cb9-cbbea48566ef",
   "metadata": {},
   "source": [
    "#### Dictionary and its functionalities\n",
    "##### Notes: Dictionary keys are immutables, means you can not change or modify keys once defined\n",
    "##### You can assign a dictionary using dict()"
   ]
  },
  {
   "cell_type": "code",
   "execution_count": 68,
   "id": "8fade8eb-a4ad-4025-bb32-020b1d02f10e",
   "metadata": {},
   "outputs": [
    {
     "name": "stdout",
     "output_type": "stream",
     "text": [
      "{'name1': 'Harry', 'name2': 'Tom', 'name3': 'Ricky'}\n"
     ]
    }
   ],
   "source": [
    "# creating a dictionary\n",
    "list_names = {\n",
    "  \"name1\": \"Harry\", \n",
    "  \"name2\": \"Tom\", \n",
    "  \"name3\": \"Ricky\"\n",
    "}\n",
    "\n",
    "# printing the dictionary\n",
    "print(list_names)"
   ]
  },
  {
   "cell_type": "code",
   "execution_count": 69,
   "id": "30ee60de-da61-4f62-9826-ec15b9113c2e",
   "metadata": {},
   "outputs": [
    {
     "name": "stdout",
     "output_type": "stream",
     "text": [
      "Harry\n"
     ]
    }
   ],
   "source": [
    "#accessing dictionary\n",
    "print(list_names[\"name1\"])"
   ]
  },
  {
   "cell_type": "code",
   "execution_count": 71,
   "id": "e6dbfb77-7f09-4ade-8659-79ddf675bd79",
   "metadata": {},
   "outputs": [
    {
     "name": "stdout",
     "output_type": "stream",
     "text": [
      "{'name1': 'Harry', 'name2': 'Tom', 'name3': 'Ricky', 'name4': 'Justin'}\n"
     ]
    }
   ],
   "source": [
    "list_names[\"name4\"]=\"Justin\"\n",
    "print(list_names)"
   ]
  },
  {
   "cell_type": "code",
   "execution_count": 72,
   "id": "034b2592-a04a-4a9b-9ad7-27e2bb2ca9d0",
   "metadata": {},
   "outputs": [],
   "source": [
    "del list_names[\"name4\"]"
   ]
  },
  {
   "cell_type": "code",
   "execution_count": 73,
   "id": "ef6a91dd-de2e-4029-a170-6c495ef88639",
   "metadata": {},
   "outputs": [
    {
     "name": "stdout",
     "output_type": "stream",
     "text": [
      "{'name1': 'Harry', 'name2': 'Tom', 'name3': 'Ricky'}\n"
     ]
    }
   ],
   "source": [
    "print(list_names)"
   ]
  },
  {
   "cell_type": "code",
   "execution_count": 74,
   "id": "f76eed98-6cfd-4a1b-a39a-a53c73150aa7",
   "metadata": {},
   "outputs": [
    {
     "name": "stdout",
     "output_type": "stream",
     "text": [
      "{'name1': 'Jack', 'name2': 'Tom', 'name3': 'Ricky'}\n"
     ]
    }
   ],
   "source": [
    "#change an element inside dictionary\n",
    "list_names[\"name1\"]=\"Jack\"\n",
    "print(list_names)"
   ]
  },
  {
   "cell_type": "code",
   "execution_count": 75,
   "id": "2257af78-564b-4bb3-94ff-782fe1c45d87",
   "metadata": {},
   "outputs": [
    {
     "name": "stdout",
     "output_type": "stream",
     "text": [
      "dict_keys(['name1', 'name2', 'name3'])\n"
     ]
    }
   ],
   "source": [
    "print(list_names.keys())"
   ]
  },
  {
   "cell_type": "code",
   "execution_count": 76,
   "id": "97165262-b8c4-4ade-929f-e3f491c3c5f6",
   "metadata": {},
   "outputs": [
    {
     "name": "stdout",
     "output_type": "stream",
     "text": [
      "dict_values(['Jack', 'Tom', 'Ricky'])\n"
     ]
    }
   ],
   "source": [
    "print(list_names.values())"
   ]
  },
  {
   "cell_type": "code",
   "execution_count": 77,
   "id": "bb56557c-3d64-4f3c-ad3d-91736637a6e4",
   "metadata": {},
   "outputs": [
    {
     "name": "stdout",
     "output_type": "stream",
     "text": [
      "{'name1': 'Jack', 'name2': 'Tom', 'name3': 'Ricky'}\n"
     ]
    }
   ],
   "source": [
    "list_names1=list_names.copy()\n",
    "print(list_names1)"
   ]
  },
  {
   "cell_type": "code",
   "execution_count": 79,
   "id": "b7f2d916-7a2d-4022-b114-b653fcfeebc4",
   "metadata": {},
   "outputs": [
    {
     "name": "stdout",
     "output_type": "stream",
     "text": [
      "{'Physics': 67, 'Maths': 87, 'Practical': 48}\n"
     ]
    }
   ],
   "source": [
    "marks = {'Physics':67, 'Maths':87}\n",
    "internal_marks = {'Practical':48}\n",
    "marks.update(internal_marks) #updates with another dictionary and basically it is just adding/appending\n",
    "print(marks)"
   ]
  },
  {
   "cell_type": "markdown",
   "id": "7955583d-9257-4156-ae23-292be0381f34",
   "metadata": {},
   "source": [
    "#### Operators"
   ]
  },
  {
   "cell_type": "code",
   "execution_count": 80,
   "id": "bfcfff35-7f7b-41f0-9b24-a96baa07f2ae",
   "metadata": {},
   "outputs": [
    {
     "data": {
      "text/plain": [
       "False"
      ]
     },
     "execution_count": 80,
     "metadata": {},
     "output_type": "execute_result"
    }
   ],
   "source": [
    "1==2"
   ]
  },
  {
   "cell_type": "code",
   "execution_count": 81,
   "id": "2a08df2c-5a51-466e-bfd1-6fdb46c59f97",
   "metadata": {},
   "outputs": [
    {
     "data": {
      "text/plain": [
       "True"
      ]
     },
     "execution_count": 81,
     "metadata": {},
     "output_type": "execute_result"
    }
   ],
   "source": [
    "2!=3"
   ]
  },
  {
   "cell_type": "code",
   "execution_count": 82,
   "id": "6911f1c7-f3c7-4130-bcf0-aa2a249661c2",
   "metadata": {},
   "outputs": [
    {
     "data": {
      "text/plain": [
       "False"
      ]
     },
     "execution_count": 82,
     "metadata": {},
     "output_type": "execute_result"
    }
   ],
   "source": [
    "3>5"
   ]
  },
  {
   "cell_type": "code",
   "execution_count": 83,
   "id": "10bafc41-ea2e-49cb-9385-fb9e22c16607",
   "metadata": {},
   "outputs": [
    {
     "data": {
      "text/plain": [
       "True"
      ]
     },
     "execution_count": 83,
     "metadata": {},
     "output_type": "execute_result"
    }
   ],
   "source": [
    "3<5 "
   ]
  },
  {
   "cell_type": "code",
   "execution_count": 85,
   "id": "376fb236-c0c3-473f-8633-18aa34303397",
   "metadata": {},
   "outputs": [
    {
     "data": {
      "text/plain": [
       "False"
      ]
     },
     "execution_count": 85,
     "metadata": {},
     "output_type": "execute_result"
    }
   ],
   "source": [
    "3 is 5"
   ]
  },
  {
   "cell_type": "code",
   "execution_count": 87,
   "id": "a9ca57e4-d0c9-4395-a678-1132c3f66eb5",
   "metadata": {},
   "outputs": [
    {
     "data": {
      "text/plain": [
       "True"
      ]
     },
     "execution_count": 87,
     "metadata": {},
     "output_type": "execute_result"
    }
   ],
   "source": [
    "3 is not 5"
   ]
  },
  {
   "cell_type": "code",
   "execution_count": 88,
   "id": "f2ed7e67-e1a9-42ea-8b5b-f10890685dde",
   "metadata": {},
   "outputs": [
    {
     "name": "stdout",
     "output_type": "stream",
     "text": [
      "False\n"
     ]
    }
   ],
   "source": [
    "print(3>5 and 4<5)"
   ]
  },
  {
   "cell_type": "code",
   "execution_count": 89,
   "id": "ec049252-a8a4-44f1-827d-e473cf24d961",
   "metadata": {},
   "outputs": [
    {
     "name": "stdout",
     "output_type": "stream",
     "text": [
      "True\n"
     ]
    }
   ],
   "source": [
    "print(3>5 or 4<5)"
   ]
  },
  {
   "cell_type": "code",
   "execution_count": 90,
   "id": "c7cac49f-0d73-4a76-95b1-bfd6a9717d5c",
   "metadata": {},
   "outputs": [
    {
     "name": "stdout",
     "output_type": "stream",
     "text": [
      "Hi\n"
     ]
    }
   ],
   "source": [
    "if not 5:\n",
    "    print(\"Hello\")\n",
    "else:\n",
    "    print(\"Hi\")"
   ]
  },
  {
   "cell_type": "code",
   "execution_count": 93,
   "id": "c0dadb5e-d88d-4b94-a2a2-87a0cd38c768",
   "metadata": {},
   "outputs": [
    {
     "name": "stdout",
     "output_type": "stream",
     "text": [
      "23\n"
     ]
    }
   ],
   "source": [
    "#Bitwise and\n",
    "age=23\n",
    "if(age>20 & age<=25): # it checks whether age>20 (returns True) and age<=25(returns True)====> output for True and True is True\n",
    "    print(age)"
   ]
  },
  {
   "cell_type": "code",
   "execution_count": 95,
   "id": "a92e199f-2444-4802-8ddf-ab2e31065de3",
   "metadata": {},
   "outputs": [
    {
     "name": "stdout",
     "output_type": "stream",
     "text": [
      "23\n"
     ]
    }
   ],
   "source": [
    "age=23\n",
    "if(age>20 and age<=25): # it checks whether age>20 (returns True) and age<=25(returns True)====> output for True and True is True\n",
    "    print(age)"
   ]
  },
  {
   "cell_type": "code",
   "execution_count": 96,
   "id": "fb4d5611-ef99-4790-a9ae-db8d3aa2525a",
   "metadata": {},
   "outputs": [
    {
     "name": "stdout",
     "output_type": "stream",
     "text": [
      "nothing\n"
     ]
    }
   ],
   "source": [
    "#Bitwise Or\n",
    "age=23\n",
    "if(age>20 | age<25):# it checks whether age>20 (returns True) or age<=25(returns True)====> output for False or True is True\n",
    "    print(age)\n",
    "else:\n",
    "    print(\"nothing\")"
   ]
  },
  {
   "cell_type": "code",
   "execution_count": 97,
   "id": "abeaf0ed-1068-4e65-9e8d-48c4ba233591",
   "metadata": {},
   "outputs": [
    {
     "name": "stdout",
     "output_type": "stream",
     "text": [
      "23\n"
     ]
    }
   ],
   "source": [
    "age=23\n",
    "if(age>20 or age<25):# it checks whether age>20 (returns True) or age<=25(returns True)====> output for False or True is True\n",
    "    print(age)\n",
    "else:\n",
    "    print(\"nothing\")"
   ]
  },
  {
   "cell_type": "code",
   "execution_count": 99,
   "id": "f23495d2-0da8-49d9-a17b-0bd137142857",
   "metadata": {},
   "outputs": [
    {
     "name": "stdout",
     "output_type": "stream",
     "text": [
      "True\n",
      "False\n",
      "True\n",
      "True\n",
      "False\n",
      "True\n"
     ]
    }
   ],
   "source": [
    "#in and not in works in sequence types\n",
    "my_list = [1, 2, 3, 4, 5]\n",
    "my_string = \"hello world\"\n",
    "my_dict = {\"name\": \"Alice\", \"age\": 30}\n",
    "\n",
    "print(1 in my_list)\n",
    "print(1 not in my_list)\n",
    "print('d' in my_string)\n",
    "print('hello' in my_string)\n",
    "print(\"name\" not in my_dict)\n",
    "print(\"name\" in my_dict)"
   ]
  },
  {
   "cell_type": "code",
   "execution_count": 101,
   "id": "aad0396d-fd05-406f-9771-8823a5cfcc33",
   "metadata": {},
   "outputs": [
    {
     "name": "stdout",
     "output_type": "stream",
     "text": [
      "10\n",
      "3\n",
      "25\n",
      "2.5\n",
      "1\n",
      "2\n",
      "25\n"
     ]
    }
   ],
   "source": [
    "x=5\n",
    "x+=5 # x=x+5\n",
    "print(x)\n",
    "\n",
    "x=5\n",
    "x-=2 #x=x-2\n",
    "print(x)\n",
    "\n",
    "x=5\n",
    "x*=5 #x=x*5\n",
    "print(x)\n",
    "\n",
    "x=5\n",
    "x/=2 #x=x/2\n",
    "print(x)\n",
    "\n",
    "x=5\n",
    "x%=2\n",
    "print(x)\n",
    "\n",
    "x=5\n",
    "x//=2\n",
    "print(x)\n",
    "\n",
    "x=5\n",
    "x**=2\n",
    "print(x)"
   ]
  },
  {
   "cell_type": "markdown",
   "id": "e2c302e8-f653-41de-9440-9f336fe774c3",
   "metadata": {},
   "source": [
    "#### &=, |= are working as first assigned data are converting to binary codes and once after converted it assigns back to the left operand and leaves at least 1 and replaces to 0 in case of &=, in case of |= it replaces 0 to 1"
   ]
  },
  {
   "cell_type": "code",
   "execution_count": 104,
   "id": "35c8d766-dff0-415c-9f6f-d7c422fcd7b9",
   "metadata": {},
   "outputs": [
    {
     "name": "stdout",
     "output_type": "stream",
     "text": [
      "7\n"
     ]
    }
   ],
   "source": [
    "x=5   \n",
    "y=7\n",
    "x|=y\n",
    "print(x)"
   ]
  },
  {
   "cell_type": "code",
   "execution_count": 103,
   "id": "9398da86-6047-4c94-9a82-869baba9627c",
   "metadata": {},
   "outputs": [
    {
     "name": "stdout",
     "output_type": "stream",
     "text": [
      "0\n"
     ]
    }
   ],
   "source": [
    "x=5\n",
    "y=2\n",
    "x&=y\n",
    "print(x)"
   ]
  },
  {
   "cell_type": "code",
   "execution_count": 105,
   "id": "631e85a8-6225-4d56-9314-9cd173d9afc8",
   "metadata": {},
   "outputs": [
    {
     "name": "stdout",
     "output_type": "stream",
     "text": [
      "3\n",
      "3\n"
     ]
    }
   ],
   "source": [
    "#Walrus operator\n",
    "print(x := 3) \n",
    "#===> x=3, print(x)\n",
    "print(x)"
   ]
  },
  {
   "cell_type": "code",
   "execution_count": null,
   "id": "03b27fe5-6186-4d67-9257-d57e93620c5b",
   "metadata": {},
   "outputs": [],
   "source": []
  }
 ],
 "metadata": {
  "kernelspec": {
   "display_name": "Python 3 (ipykernel)",
   "language": "python",
   "name": "python3"
  },
  "language_info": {
   "codemirror_mode": {
    "name": "ipython",
    "version": 3
   },
   "file_extension": ".py",
   "mimetype": "text/x-python",
   "name": "python",
   "nbconvert_exporter": "python",
   "pygments_lexer": "ipython3",
   "version": "3.13.5"
  }
 },
 "nbformat": 4,
 "nbformat_minor": 5
}
