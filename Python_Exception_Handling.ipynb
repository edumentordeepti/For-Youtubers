{
  "nbformat": 4,
  "nbformat_minor": 0,
  "metadata": {
    "colab": {
      "provenance": []
    },
    "kernelspec": {
      "name": "python3",
      "display_name": "Python 3"
    },
    "language_info": {
      "name": "python"
    }
  },
  "cells": [
    {
      "cell_type": "code",
      "execution_count": 13,
      "metadata": {
        "colab": {
          "base_uri": "https://localhost:8080/"
        },
        "id": "1MpIl0wjXn2O",
        "outputId": "d3b205f9-daa2-4df1-a888-ccc82e136fef"
      },
      "outputs": [
        {
          "output_type": "stream",
          "name": "stdout",
          "text": [
            "Enter an integer: were\n",
            "An error occurred: invalid literal for int() with base 10: 'were'\n"
          ]
        }
      ],
      "source": [
        "\"\"\"try-except\"\"\"\n",
        "try:\n",
        "    num_str = input(\"Enter an integer: \")\n",
        "    number = int(num_str)  # May raise ValueError if input is not an integer\n",
        "    result = 10 / number   # May raise ZeroDivisionError if number is 0\n",
        "    print(f\"The result is: {result}\")\n",
        "#except ValueError:\n",
        "    #print(\"Invalid input. Please enter a valid integer.\")\n",
        "#except ZeroDivisionError:\n",
        "    #print(\"Cannot divide by zero.\")\n",
        "except Exception as e:\n",
        "    print(f\"An error occurred: {e}\")"
      ]
    },
    {
      "cell_type": "code",
      "source": [
        "  \"\"\"try..except..else\"\"\"\n",
        "  try:\n",
        "        # Code that might raise a ValueError\n",
        "        num = int(20)\n",
        "  except ValueError:\n",
        "        print(\"Invalid input: Please enter a valid number.\")\n",
        "  else:\n",
        "        print(f\"The value of num : {num}\")"
      ],
      "metadata": {
        "colab": {
          "base_uri": "https://localhost:8080/"
        },
        "id": "JT-mJmoLpDmV",
        "outputId": "902e257a-e98c-49d5-f64c-8c430bb76bf0"
      },
      "execution_count": 15,
      "outputs": [
        {
          "output_type": "stream",
          "name": "stdout",
          "text": [
            "The value of num : 20\n"
          ]
        }
      ]
    },
    {
      "cell_type": "code",
      "source": [
        "\"\"\"try..except..else..finally\"\"\"\n",
        "def check_even_odd(number):\n",
        "    try:\n",
        "        # Intentionally raise an AssertionError if the number is odd, assert is used to evaluate a condition is true or false, basically sanity check\n",
        "        #Syntax:assert condition, message\n",
        "        assert number % 2 == 0, \"Number is odd\"\n",
        "    except AssertionError as e:\n",
        "        print(f\"Caught an exception: {e}. The number {number} is odd.\")\n",
        "    else:\n",
        "        # This block executes if no exception occurs in the 'try' block\n",
        "        print(f\"No exception occurred. The number {number} is even.\")\n",
        "    finally:\n",
        "        # This block always executes, regardless of whether an exception occurred\n",
        "        print(\"Finished checking number whether even or odd\")\n",
        "\n",
        "# Test cases\n",
        "check_even_odd(6)  # Even number\n",
        "check_even_odd(9)  # Odd number\n",
        "check_even_odd(0)  # Even number"
      ],
      "metadata": {
        "colab": {
          "base_uri": "https://localhost:8080/"
        },
        "id": "mUaEat0hwHte",
        "outputId": "afba0920-ff3a-4cce-e605-ed650614bef7"
      },
      "execution_count": 16,
      "outputs": [
        {
          "output_type": "stream",
          "name": "stdout",
          "text": [
            "No exception occurred. The number 6 is even.\n",
            "Finished checking number whether even or odd\n",
            "Caught an exception: Number is odd. The number 9 is odd.\n",
            "Finished checking number whether even or odd\n",
            "No exception occurred. The number 0 is even.\n",
            "Finished checking number whether even or odd\n"
          ]
        }
      ]
    },
    {
      "cell_type": "code",
      "source": [
        "\"\"\"Handling Multiple Exceptions with a Single except Clause\"\"\"\n",
        "data = [1, 2, 3]\n",
        "try:\n",
        "    index_str = input(\"Enter an index (0-2): \")\n",
        "    index = int(index_str)\n",
        "     # Will raise IndexError if index is out of range\n",
        "    value = data[index]\n",
        "    print(f\"Value at index {index}: {value}\")\n",
        "    #will raise ValueError if value is not provided correctly\n",
        "except (ValueError, IndexError, ZeroDivisionError):\n",
        "      print(\"Invalid input or index out of range. Please enter a number between 0 and 2.\")"
      ],
      "metadata": {
        "colab": {
          "base_uri": "https://localhost:8080/"
        },
        "id": "6imp2sdMpxuI",
        "outputId": "bb39452e-e6ea-4cd9-f1c7-716d521454f7"
      },
      "execution_count": 20,
      "outputs": [
        {
          "output_type": "stream",
          "name": "stdout",
          "text": [
            "Enter an index (0-2): 1\n",
            "Value at index 1: 2\n"
          ]
        }
      ]
    },
    {
      "cell_type": "code",
      "source": [
        "\"\"\"raising custom exception\"\"\"\n",
        "class InsufficientFundsError(Exception):\n",
        "    \"\"\"Custom exception for insufficient funds.\"\"\"\n",
        "    pass\n",
        "\n",
        "balance = 100\n",
        "withdrawal_amount = 101\n",
        "\n",
        "try:\n",
        "    if withdrawal_amount > balance:\n",
        "        raise InsufficientFundsError(\"Cannot withdraw: Insufficient funds.\")\n",
        "    else:\n",
        "        balance -= withdrawal_amount\n",
        "        print(f\"Withdrawal successful. Remaining balance: {balance}\")\n",
        "except InsufficientFundsError as e:\n",
        "    print(f\"Error: {e}\")"
      ],
      "metadata": {
        "colab": {
          "base_uri": "https://localhost:8080/"
        },
        "id": "LORsMtMJrntp",
        "outputId": "451a284f-c38b-4849-c987-ad6015e3c1c9"
      },
      "execution_count": 24,
      "outputs": [
        {
          "output_type": "stream",
          "name": "stdout",
          "text": [
            "Error: Cannot withdraw: Insufficient funds.\n"
          ]
        }
      ]
    },
    {
      "cell_type": "code",
      "source": [
        "\"\"\"raise built-in Exceptions\"\"\"\n",
        "def check_positive(number):\n",
        "        if number <= 0:\n",
        "            raise ValueError(\"Number must be positive.\")\n",
        "        return number\n",
        "\n",
        "try:\n",
        "        result = check_positive(-5)\n",
        "        print(f\"Result: {result}\")\n",
        "except ValueError as e:\n",
        "        print(f\"Error: {e}\")"
      ],
      "metadata": {
        "colab": {
          "base_uri": "https://localhost:8080/"
        },
        "id": "TX1E8A27sUNq",
        "outputId": "cdfc5612-16d7-43b9-f238-93cb0472b380"
      },
      "execution_count": 25,
      "outputs": [
        {
          "output_type": "stream",
          "name": "stdout",
          "text": [
            "Error: Number must be positive.\n"
          ]
        }
      ]
    },
    {
      "cell_type": "code",
      "source": [
        "class InvalidInputError(Exception):\n",
        "  \"\"\"custom exception for invalid input\"\"\"\n",
        "  def __init__(self,message):\n",
        "    self.message = message\n",
        "    #super().__init__(self.message)\n",
        "\n",
        "class OutOfRangeError(Exception):\n",
        "  \"\"\"custom exception for values outside a specified range\"\"\"\n",
        "  def __init__(self,value,lower_bound,upper_bound,message):\n",
        "    self.value = value\n",
        "    self.lower_bound = lower_bound\n",
        "    self.upper_bound = upper_bound\n",
        "    self.message = message\n",
        "    #super().__init__(self.message)\n",
        "\"\"\"The super().__init__(self.message) call ensures that the parent Exception class is properly initialized with the error message.\"\"\"\n",
        "\n",
        "def process_data(data):\n",
        "    if not isinstance(data, str):\n",
        "        raise InvalidInputError(\"Data must be a string.\")\n",
        "\n",
        "def calculate_percentage(value):\n",
        "    if not (0 <= value <= 100):\n",
        "        raise OutOfRangeError(value, 0, 100, \"Percentage value is invalid\")\n",
        "\n",
        "try:\n",
        "    process_data(123)\n",
        "except InvalidInputError as e:\n",
        "    print(f\"Error: {e.message}\")\n",
        "\n",
        "try:\n",
        "    calculate_percentage(150)\n",
        "except OutOfRangeError as e:\n",
        "    print(f\"Error: {e.message}\")"
      ],
      "metadata": {
        "colab": {
          "base_uri": "https://localhost:8080/"
        },
        "id": "YLcEwjjkuBaf",
        "outputId": "6c5f0f68-5470-4e87-af1a-ed18415f3f18"
      },
      "execution_count": 27,
      "outputs": [
        {
          "output_type": "stream",
          "name": "stdout",
          "text": [
            "Error: Data must be a string.\n",
            "Error: Percentage value is invalid\n"
          ]
        }
      ]
    },
    {
      "cell_type": "code",
      "source": [],
      "metadata": {
        "id": "SALEOCdftNGt"
      },
      "execution_count": null,
      "outputs": []
    }
  ]
}