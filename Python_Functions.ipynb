{
  "nbformat": 4,
  "nbformat_minor": 0,
  "metadata": {
    "colab": {
      "provenance": []
    },
    "kernelspec": {
      "name": "python3",
      "display_name": "Python 3"
    },
    "language_info": {
      "name": "python"
    }
  },
  "cells": [
    {
      "cell_type": "code",
      "execution_count": 6,
      "metadata": {
        "colab": {
          "base_uri": "https://localhost:8080/"
        },
        "id": "77mfXwN3IBfv",
        "outputId": "8c8b98ef-0a90-47e3-e9eb-5511bd6d7520"
      },
      "outputs": [
        {
          "output_type": "stream",
          "name": "stdout",
          "text": [
            "Hello this is Python functions\n",
            "9\n",
            "90\n",
            "3\n"
          ]
        }
      ],
      "source": [
        "###Built-in functions###\n",
        "print(\"Hello this is Python functions\")\n",
        "print(sum([2,3,4]))\n",
        "print(max(3,5,7,90))\n",
        "print(min(3,4,7,9))\n",
        "\"\"\"There are 100's of built in functions we are using in our python applications"
      ]
    },
    {
      "cell_type": "code",
      "source": [
        "###User defined functions###\n",
        "def checkEvenOdd(num):\n",
        "  if num%2==0:\n",
        "    print(f\"{num} is even\")\n",
        "  else:\n",
        "     print(f\"{num} is odd\")"
      ],
      "metadata": {
        "id": "7b1Q8hUlIU0Q"
      },
      "execution_count": 13,
      "outputs": []
    },
    {
      "cell_type": "code",
      "source": [
        "checkEvenOdd(2)\n",
        "checkEvenOdd(5)"
      ],
      "metadata": {
        "colab": {
          "base_uri": "https://localhost:8080/"
        },
        "id": "nkPmkH76Jthp",
        "outputId": "fcf50e4e-ec30-4533-bb10-f9684d522307"
      },
      "execution_count": 11,
      "outputs": [
        {
          "output_type": "stream",
          "name": "stdout",
          "text": [
            "2 is even\n",
            "5 is odd\n"
          ]
        }
      ]
    },
    {
      "cell_type": "code",
      "source": [
        "###Parameterised functions###\n",
        "def sum(a,b):\n",
        "  print(f\"sum of numbers a and b is : {a+b}\")\n",
        "\n",
        "sum(3,4)"
      ],
      "metadata": {
        "colab": {
          "base_uri": "https://localhost:8080/"
        },
        "id": "NfaeuEmLKk6z",
        "outputId": "4fd94d2f-7de6-4d4b-8b93-f719cfbe950a"
      },
      "execution_count": 16,
      "outputs": [
        {
          "output_type": "stream",
          "name": "stdout",
          "text": [
            "sum of numbers a and b is : 7\n"
          ]
        }
      ]
    },
    {
      "cell_type": "code",
      "source": [
        "###Functions with default arguments###\n",
        "def studentInfo( name, rollno, city = \"Delhi\", branch=\"Computer Science\"):\n",
        "   \"This prints a passed info into this function\"\n",
        "   print(f\"The Student is {name} and rollno is {rollno} belongs to {city} pertaning branch as {branch}\")\n",
        "   return\n",
        "\n",
        "studentInfo(\"Jay\",101,\"Hyderabad\",\"Mechanical\")\n",
        "studentInfo(\"Pari\",122,\"Electronics\")\n",
        "studentInfo(\"Sunil\",112)"
      ],
      "metadata": {
        "colab": {
          "base_uri": "https://localhost:8080/"
        },
        "id": "k1geMGzlJw8C",
        "outputId": "f2ee0c23-75ab-44dd-9562-30ef1ee2e539"
      },
      "execution_count": 26,
      "outputs": [
        {
          "output_type": "stream",
          "name": "stdout",
          "text": [
            "The Student is Jay and rollno is 101 belongs to Hyderabad pertaning branch as Mechanical\n",
            "The Student is Pari and rollno is 122 belongs to Electronics pertaning branch as Computer Science\n",
            "The Student is Sunil and rollno is 112 belongs to Delhi pertaning branch as Computer Science\n"
          ]
        }
      ]
    },
    {
      "cell_type": "code",
      "source": [
        "###Functions with required/positional arguments###\n",
        "def calculate_area(length, width):\n",
        "    return length * width\n",
        "\n",
        "# Calling the function with required arguments\n",
        "area = calculate_area(10, 5)\n",
        "print(f\"The area is: {area}\")\n",
        "\n",
        "calculate_area(20,30)"
      ],
      "metadata": {
        "colab": {
          "base_uri": "https://localhost:8080/"
        },
        "id": "i98JSkgsKIIq",
        "outputId": "31cbec9a-f3fd-430f-bf5b-897554d5f572"
      },
      "execution_count": 32,
      "outputs": [
        {
          "output_type": "stream",
          "name": "stdout",
          "text": [
            "The area is: 50\n"
          ]
        },
        {
          "output_type": "execute_result",
          "data": {
            "text/plain": [
              "600"
            ]
          },
          "metadata": {},
          "execution_count": 32
        }
      ]
    },
    {
      "cell_type": "code",
      "source": [
        "###Fucntions with Keyword arguments###\n",
        "def greet(name, message):\n",
        "    print(f\"Hello, {name}! {message}\")\n",
        "\n",
        "# Calling with positional arguments\n",
        "greet(\"Alice\", \"How are you?\")\n",
        "\n",
        "# Calling with keyword arguments\n",
        "greet(name=\"Bob\", message=\"Nice to meet you!\")\n",
        "\n",
        "# Order does not matter with keyword arguments\n",
        "greet(message=\"Have a great day!\", name=\"Charlie\")"
      ],
      "metadata": {
        "colab": {
          "base_uri": "https://localhost:8080/"
        },
        "id": "ToiWhHHcMZy6",
        "outputId": "9210830d-d8fc-4dc5-9736-a7957ca4025a"
      },
      "execution_count": 33,
      "outputs": [
        {
          "output_type": "stream",
          "name": "stdout",
          "text": [
            "Hello, Alice! How are you?\n",
            "Hello, Bob! Nice to meet you!\n",
            "Hello, Charlie! Have a great day!\n"
          ]
        }
      ]
    },
    {
      "cell_type": "code",
      "source": [
        "###Fucntions with Keyword-only arguments###\n",
        "def EmployeeData(EmpId, *, Emp_Name=\"Suresh\", Role=\"Senior Manager\"):\n",
        "    print(f\"Empid: {EmpId}, Employee Name: {Emp_Name}, Role: {Role}\")\n",
        "\n",
        "# Valid calls\n",
        "EmployeeData(100)\n",
        "EmployeeData(200, Role=\"Junior Lead\",Emp_Name=\"Rahul\")\n",
        "EmployeeData(230, Emp_Name=\"Roshni\",Role=\"Lead\")\n",
        "\n",
        "# Invalid call (Emp_Name cannot be passed positionally)\n",
        "# EmployeeData(200,\"Rahul\") # This would raise a TypeError\n"
      ],
      "metadata": {
        "colab": {
          "base_uri": "https://localhost:8080/"
        },
        "id": "e9F5tAlwOsrQ",
        "outputId": "3b42d2a4-c279-4f5a-e960-648c0663835f"
      },
      "execution_count": 39,
      "outputs": [
        {
          "output_type": "stream",
          "name": "stdout",
          "text": [
            "Empid: 100, Employee Name: Suresh, Role: Senior Manager\n",
            "Empid: 200, Employee Name: Rahul, Role: Junior Lead\n",
            "Empid: 230, Employee Name: Roshni, Role: Lead\n"
          ]
        }
      ]
    },
    {
      "cell_type": "code",
      "source": [
        "###*args and **kwargs in python###\n",
        "def sum_numbers(*numbers):\n",
        "    total = 0\n",
        "    for num in numbers:\n",
        "        total += num\n",
        "    return total\n",
        "\n",
        "print(sum_numbers(1, 2, 3))\n",
        "print(sum_numbers(5, 10, 15, 30))\n",
        "\n",
        "\"\"\"Advantages of using *args is you can define any number pf positional arguments without throwing any error\"\"\"\n",
        "\n",
        "\n",
        "\n",
        "\"\"\"**kwargs is used with dictionaries iterables\"\"\"\n",
        "def print_user_info(**details):\n",
        "    for key, value in details.items():\n",
        "        print(f\"{key}: {value}\")\n",
        "\n",
        "print_user_info(name=\"Alice\", age=30,city=\"New York\", occupation=\"Engineer\", company=\"Tech Solutions\")\n",
        "#print_user_info(city=\"New York\", occupation=\"Engineer\", company=\"Tech Solutions\")"
      ],
      "metadata": {
        "colab": {
          "base_uri": "https://localhost:8080/"
        },
        "id": "e8QjkwfTPWMA",
        "outputId": "b9706332-0e4b-4e0b-8c57-593ac5a71392"
      },
      "execution_count": 46,
      "outputs": [
        {
          "output_type": "stream",
          "name": "stdout",
          "text": [
            "6\n",
            "60\n",
            "name: Alice\n",
            "age: 30\n",
            "city: New York\n",
            "occupation: Engineer\n",
            "company: Tech Solutions\n",
            "city: New York\n",
            "occupation: Engineer\n",
            "company: Tech Solutions\n"
          ]
        }
      ]
    },
    {
      "cell_type": "code",
      "source": [
        "###Lambda functions###\n",
        "add_ten = lambda x: x + 10\n",
        "print(f\"addition={add_ten(5)}\")\n",
        "\n",
        "multiply = lambda x, y: x * y\n",
        "print(f\"multiplication={multiply(3, 7)}\")"
      ],
      "metadata": {
        "colab": {
          "base_uri": "https://localhost:8080/"
        },
        "id": "TvbUbfu7Qfj3",
        "outputId": "ef737518-5516-4d98-b3b0-3bf2d9476a80"
      },
      "execution_count": 50,
      "outputs": [
        {
          "output_type": "stream",
          "name": "stdout",
          "text": [
            "addition=15\n",
            "multiplication=21\n"
          ]
        }
      ]
    },
    {
      "cell_type": "code",
      "source": [
        "###Lambda functions with map(), filter(), reduce()###\n",
        "numlist = [1,2,3,4,5,6]\n",
        "sqrlist=2*[1,2,3,4,5,6]\n",
        "print(f\"The squared list : {sqrlist}\")\n",
        "\"\"\"You can see that it just doubled the size of list which is not our output\"\"\"\n",
        "print(\"------------------------------------------------------------------------------------------\")\n",
        "# Define a function to square a number\n",
        "def square(number):\n",
        "    return number * number\n",
        "\n",
        "# Apply the 'square' function to each element in 'numbers' using map()\n",
        "squared_numbers_map_object = map(square, numlist)\n",
        "\n",
        "# Convert the map object to a list to see the results\n",
        "squared_numbers_list = list(squared_numbers_map_object)\n",
        "\n",
        "# Print the original and squared lists\n",
        "print(f\"Original numbers: {numlist}\")\n",
        "print(f\"Squared numbers: {squared_numbers_list}\")\n",
        "\n",
        "print(\"--------------------------------------------------------------------------------------------\")\n",
        "\n",
        "numbers = [1, 2, 3, 4, 5, 6, 7, 8, 9, 10]\n",
        "\n",
        "# Using filter() with a named function\n",
        "even_numbers_filter_object = filter(is_even, numbers)\n",
        "\n",
        "# Convert the filter object to a list for viewing the elements\n",
        "even_numbers_list = list(filter(lambda x: x % 2 == 0, numbers))\n",
        "print(f\"Even numbers using named function: {even_numbers_list}\")\n",
        "\n",
        "# Using filter() with a lambda function\n",
        "odd_numbers_list = list(filter(lambda x: x % 2 != 0, numbers))\n",
        "print(f\"Odd numbers using lambda function: {odd_numbers_list}\")\n",
        "\n",
        "print(\"---------------------------------------------------------------------------------------------\")\n",
        "\n",
        "from functools import reduce\n",
        "numbers = [1, 2, 3, 4, 5, 6, 7, 8, 9]\n",
        "sum_result = reduce(lambda x, y: x + y, numbers)\n",
        "print(sum_result)\n",
        "mul_result =  reduce(lambda x, y: x*y,numbers)\n",
        "print(mul_result)"
      ],
      "metadata": {
        "colab": {
          "base_uri": "https://localhost:8080/"
        },
        "id": "29UF5cJMRlok",
        "outputId": "09f810d2-43f8-4afe-bffe-b33d96e2ee62"
      },
      "execution_count": 69,
      "outputs": [
        {
          "output_type": "stream",
          "name": "stdout",
          "text": [
            "The squared list : [1, 2, 3, 4, 5, 6, 1, 2, 3, 4, 5, 6]\n",
            "------------------------------------------------------------------------------------------\n",
            "Original numbers: [1, 2, 3, 4, 5, 6]\n",
            "Squared numbers: [1, 4, 9, 16, 25, 36]\n",
            "--------------------------------------------------------------------------------------------\n",
            "Even numbers using named function: [2, 4, 6, 8, 10]\n",
            "Odd numbers using lambda function: [1, 3, 5, 7, 9]\n",
            "---------------------------------------------------------------------------------------------\n",
            "45\n",
            "362880\n"
          ]
        }
      ]
    },
    {
      "cell_type": "code",
      "source": [
        "###Decorators in function###\n",
        "#Function Decorators\n",
        "def decorator(func):\n",
        "\n",
        "    def wrapper():\n",
        "        func()\n",
        "    return wrapper\n",
        "\n",
        "# Applying the decorator to a function\n",
        "@decorator\n",
        "def greet():\n",
        "    print(\"Hello, World!\")\n",
        "def sayHello():\n",
        "    print(\"Say Hello to the world\")\n",
        "\n",
        "greet()\n",
        "sayHello()\n",
        "print(\"--------------------------------------------\")\n",
        "#Method Decorators\n",
        "def method_decorator(func):\n",
        "    def wrapper(self,*args, **kwargs):\n",
        "        res = func(self,*args, **kwargs)\n",
        "        return res\n",
        "    return wrapper\n",
        "\n",
        "class MyClass:\n",
        "    @method_decorator\n",
        "    def say_hello(self):\n",
        "        print(\"Hello!\")\n",
        "    def greet(self):\n",
        "        print(\"Say Hello to the world\")\n",
        "\n",
        "obj = MyClass()\n",
        "obj.say_hello()\n",
        "obj.greet()\n",
        "\n",
        "print(\"--------------------------------------------\")\n",
        "\n",
        "\n",
        "def fun(cls):\n",
        "    cls.class_name = cls.__name__\n",
        "    return cls\n",
        "\n",
        "@fun\n",
        "class Person:\n",
        "    pass\n",
        "\n",
        "print(Person.class_name)\n",
        "\n",
        "print(\"--------------------------------------------\")\n",
        "#inbuilt decorators\n",
        "\n",
        "class Employee:\n",
        "    raise_amount = 1.05\n",
        "\n",
        "    def __init__(self, name, salary):\n",
        "        self.name = name\n",
        "        self.salary = salary\n",
        "\n",
        "    @classmethod     #In built classmethod decorator\n",
        "    def set_raise_amount(cls, amount):\n",
        "        cls.raise_amount = amount\n",
        "\n",
        "# Using the class method\n",
        "Employee.set_raise_amount(1.10)\n",
        "print(Employee.raise_amount)"
      ],
      "metadata": {
        "colab": {
          "base_uri": "https://localhost:8080/"
        },
        "id": "MNtY9IRuSLMw",
        "outputId": "04326df7-152a-442b-e6e1-74f9a7f11339"
      },
      "execution_count": 83,
      "outputs": [
        {
          "output_type": "stream",
          "name": "stdout",
          "text": [
            "Hello, World!\n",
            "Say Hello to the world\n",
            "--------------------------------------------\n",
            "Hello!\n",
            "Say Hello to the world\n",
            "--------------------------------------------\n",
            "Person\n",
            "--------------------------------------------\n",
            "1.1\n"
          ]
        }
      ]
    },
    {
      "cell_type": "code",
      "source": [
        "###generator functions in Python###\n",
        "def count_up_to(max_num):\n",
        "    n = 0\n",
        "    while n < max_num:\n",
        "        yield n\n",
        "        n += 1\n",
        "\n",
        "# Using the generator\n",
        "for num in count_up_to(5):\n",
        "    print(num)"
      ],
      "metadata": {
        "colab": {
          "base_uri": "https://localhost:8080/"
        },
        "id": "z8J5RbpmU-tQ",
        "outputId": "d10a084a-a0ba-4b7c-8f8c-35b7afb4d59d"
      },
      "execution_count": 84,
      "outputs": [
        {
          "output_type": "stream",
          "name": "stdout",
          "text": [
            "0\n",
            "1\n",
            "2\n",
            "3\n",
            "4\n"
          ]
        }
      ]
    },
    {
      "cell_type": "code",
      "source": [],
      "metadata": {
        "id": "OEafb-a1ZJp3"
      },
      "execution_count": null,
      "outputs": []
    }
  ]
}