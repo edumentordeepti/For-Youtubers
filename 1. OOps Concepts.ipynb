{
 "cells": [
  {
   "cell_type": "code",
   "execution_count": 1,
   "id": "a7593344-a589-4e6a-8475-185c142c2a93",
   "metadata": {},
   "outputs": [
    {
     "name": "stdout",
     "output_type": "stream",
     "text": [
      "Name: Pulsar, Gears: 4 \n",
      "Name: Hero Honda, Gears: 2 \n"
     ]
    }
   ],
   "source": [
    "# Class Example\n",
    "class Bike:\n",
    "    name = \"Pulsar\"\n",
    "    gear = 4\n",
    "\n",
    "# creating object of class\n",
    "bike1 = Bike() \n",
    "bike2 = Bike()\n",
    "\n",
    "# instantiating objects of class\n",
    "bike2.gear = 2\n",
    "bike2.name = \"Hero Honda\"\n",
    "\n",
    "print(f\"Name: {bike1.name}, Gears: {bike1.gear} \")\n",
    "print(f\"Name: {bike2.name}, Gears: {bike2.gear} \")"
   ]
  },
  {
   "cell_type": "code",
   "execution_count": 2,
   "id": "264b769e-24d4-475e-9a51-1f3bb68a6c74",
   "metadata": {},
   "outputs": [
    {
     "name": "stdout",
     "output_type": "stream",
     "text": [
      "Name: Pulsar & Gears: 4\n",
      "Name: Hero Honda & Gears: 2\n"
     ]
    }
   ],
   "source": [
    "print(\"Name:\",bike1.name, \"&\" , \"Gears:\",bike1.gear)\n",
    "print(\"Name:\",bike2.name, \"&\" , \"Gears:\",bike2.gear)"
   ]
  },
  {
   "cell_type": "markdown",
   "id": "76951552-8c25-407c-8545-e0281df21a47",
   "metadata": {},
   "source": [
    "### Let us practice another example"
   ]
  },
  {
   "cell_type": "markdown",
   "id": "7a3695c0-ee3d-4b77-8eda-bba143220be6",
   "metadata": {},
   "source": [
    "#### create a class of House and create objects of that class and instantiate them"
   ]
  },
  {
   "cell_type": "code",
   "execution_count": 3,
   "id": "0866584f-4ea3-4855-aac2-6efeb76c3525",
   "metadata": {},
   "outputs": [
    {
     "name": "stdout",
     "output_type": "stream",
     "text": [
      "house color: Blue\n",
      "house number: 2001\n"
     ]
    }
   ],
   "source": [
    "#creating a class\n",
    "class house:\n",
    "    house_color = \"\"\n",
    "    house_number= 0\n",
    "\n",
    "# create two objects of the house class\n",
    "house1 = house()\n",
    "house2 = house()\n",
    "\n",
    "# access property using house1\n",
    "house1.house_color = \"Blue\"\n",
    "print(f\"house color: {house1.house_color}\")\n",
    "\n",
    "# access properties using house2\n",
    "house1.house_number = 2001\n",
    "print(f\"house number: {house1.house_number}\")"
   ]
  },
  {
   "cell_type": "markdown",
   "id": "0c3362b4-a37c-4df8-8191-7f12d367a6fd",
   "metadata": {},
   "source": [
    "#### let us understand on adding method inside class and access it using objects"
   ]
  },
  {
   "cell_type": "code",
   "execution_count": 4,
   "id": "bd2bc56c-7217-4d71-b47f-d722362f275d",
   "metadata": {},
   "outputs": [
    {
     "name": "stdout",
     "output_type": "stream",
     "text": [
      "Area of rectangle = 1200\n"
     ]
    }
   ],
   "source": [
    "# create a class\n",
    "class rectangle:\n",
    "    length = 0\n",
    "    breadth = 0\n",
    "    \n",
    "    # method to calculate area\n",
    "    def calculate_rectanglearea(self):\n",
    "        print(\"Area of rectangle =\", self.length * self.breadth)\n",
    "\n",
    "# create object of Room class\n",
    "rectangle1 = rectangle()\n",
    "\n",
    "# assign values to all the properties \n",
    "rectangle1.length = 40\n",
    "rectangle1.breadth = 30\n",
    "\n",
    "# access method inside class\n",
    "rectangle1.calculate_rectanglearea()"
   ]
  },
  {
   "cell_type": "markdown",
   "id": "5a2377ca-780b-4ac2-899d-40613c0d03f9",
   "metadata": {},
   "source": [
    "# Homework:\n",
    "## Create an Employee class which has Employee ID, Employee Name, Employee BaseSalary as attributes\n",
    "## Inside that class, You need to calculate Salary of Employee (note salary should be BaseSalary+1.5*BaseSalary)\n",
    "## Create Objects and instantiate for minimum three Employees data"
   ]
  },
  {
   "cell_type": "markdown",
   "id": "76e222c8-18ea-4bf4-b2f4-73f45158cd77",
   "metadata": {},
   "source": [
    "#### Polymorphism"
   ]
  },
  {
   "cell_type": "code",
   "execution_count": 5,
   "id": "17448e96-f3e2-44ad-8b74-2e5149e4784d",
   "metadata": {},
   "outputs": [
    {
     "name": "stdout",
     "output_type": "stream",
     "text": [
      "John\n",
      "John\n"
     ]
    }
   ],
   "source": [
    "class Public:\n",
    "    # __str__ is another magic function\n",
    "    def __init__(self):\n",
    "        self.name = \"John\"  # Public attribute\n",
    "\n",
    "    def display_name(self):\n",
    "        print(self.name)  # Public method\n",
    "\n",
    "obj = Public()\n",
    "obj.display_name()  # Accessible\n",
    "print(obj.name)  # Accessible\n"
   ]
  },
  {
   "cell_type": "code",
   "execution_count": 6,
   "id": "d654dcda-feab-4200-ab22-e5c1d9f36eca",
   "metadata": {},
   "outputs": [
    {
     "name": "stdout",
     "output_type": "stream",
     "text": [
      "30\n"
     ]
    }
   ],
   "source": [
    "class Protected:\n",
    "    def __init__(self):\n",
    "        self._age = 30  # Protected attribute\n",
    "\n",
    "class Subclass(Protected):\n",
    "    def display_age(self):\n",
    "        print(self._age)  # Accessible in subclass\n",
    "\n",
    "obj = Subclass()\n",
    "obj.display_age()"
   ]
  },
  {
   "cell_type": "code",
   "execution_count": 10,
   "id": "1d03674f-1ad6-4431-bcf9-56a6e8db985a",
   "metadata": {},
   "outputs": [
    {
     "name": "stdout",
     "output_type": "stream",
     "text": [
      "50000\n"
     ]
    },
    {
     "ename": "AttributeError",
     "evalue": "'Private' object has no attribute '__salary'",
     "output_type": "error",
     "traceback": [
      "\u001b[31m---------------------------------------------------------------------------\u001b[39m",
      "\u001b[31mAttributeError\u001b[39m                            Traceback (most recent call last)",
      "\u001b[36mCell\u001b[39m\u001b[36m \u001b[39m\u001b[32mIn[10]\u001b[39m\u001b[32m, line 9\u001b[39m\n\u001b[32m      7\u001b[39m obj = Private()\n\u001b[32m      8\u001b[39m \u001b[38;5;28mprint\u001b[39m(obj.salary())  \u001b[38;5;66;03m# Works\u001b[39;00m\n\u001b[32m----> \u001b[39m\u001b[32m9\u001b[39m \u001b[38;5;28mprint\u001b[39m(\u001b[43mobj\u001b[49m\u001b[43m.\u001b[49m\u001b[43m__salary\u001b[49m)  \u001b[38;5;66;03m# Raises AttributeError\u001b[39;00m\n",
      "\u001b[31mAttributeError\u001b[39m: 'Private' object has no attribute '__salary'"
     ]
    }
   ],
   "source": [
    "class Private:\n",
    "    __salary = 50000  # Private attribute\n",
    "\n",
    "    def salary(self):\n",
    "        return self.__salary  # Access through public method\n",
    "\n",
    "obj = Private()\n",
    "print(obj.salary())  # Works\n",
    "print(obj.__salary)  # Raises AttributeError\n"
   ]
  },
  {
   "cell_type": "code",
   "execution_count": 11,
   "id": "9d4babb0-7b82-44f0-84de-fc73377e1c14",
   "metadata": {},
   "outputs": [
    {
     "name": "stdout",
     "output_type": "stream",
     "text": [
      "Length of string: 6\n",
      "Length of list: 5\n",
      "Length of dictionary: 2\n"
     ]
    }
   ],
   "source": [
    "# len() with a string\n",
    "my_string = \"Python\"\n",
    "print(f\"Length of string: {len(my_string)}\")\n",
    "\n",
    "# len() with a list\n",
    "my_list = [1, 2, 3, 4, 5]\n",
    "print(f\"Length of list: {len(my_list)}\")\n",
    "\n",
    "# len() with a dictionary\n",
    "my_dict = {\"a\": 1, \"b\": 2}\n",
    "print(f\"Length of dictionary: {len(my_dict)}\")"
   ]
  },
  {
   "cell_type": "markdown",
   "id": "cbe9b419-e961-4695-9e75-57aadfa4e3e8",
   "metadata": {},
   "source": [
    "### Method Overriding:"
   ]
  },
  {
   "cell_type": "code",
   "execution_count": 34,
   "id": "ec99757d-fb98-41a7-a344-0751b1430c7c",
   "metadata": {},
   "outputs": [
    {
     "name": "stdout",
     "output_type": "stream",
     "text": [
      "This is rectangle area\n",
      "This is square area\n",
      "This is circle area\n"
     ]
    }
   ],
   "source": [
    "class Area:\n",
    "    \n",
    "    def Area(self):\n",
    "        pass  # Placeholder for a generic animal sound\n",
    "\n",
    "class Rectangle(Area):\n",
    "    def rectarea(self):\n",
    "        print(\"This is rectangle area\")\n",
    "\n",
    "class Square(Area):\n",
    "    def sqarea(self):\n",
    "        print(\"This is square area\")\n",
    "\n",
    "class Circle(Area):\n",
    "    def cirarea(self):\n",
    "        print(\"This is circle area\")\n",
    "\n",
    "# Create objects of different Aaea types\n",
    "rectangle = Rectangle()\n",
    "square = Square()\n",
    "circle = Circle()\n",
    "\n",
    "rectangle.rectarea()\n",
    "square.sqarea()\n",
    "circle.cirarea()"
   ]
  },
  {
   "cell_type": "code",
   "execution_count": 50,
   "id": "456014eb-d8dc-4e7a-ad9a-b180a2723c81",
   "metadata": {},
   "outputs": [
    {
     "name": "stdout",
     "output_type": "stream",
     "text": [
      "100\n"
     ]
    }
   ],
   "source": [
    "def product(a, b):\n",
    "    p = a * b\n",
    "    print(p)\n",
    "\n",
    "def product(a, b, c):\n",
    "    p = a * b * c\n",
    "    print(p)\n",
    "\n",
    "product(4, 5, 5)"
   ]
  },
  {
   "cell_type": "markdown",
   "id": "9b9e3616-da69-4adc-977b-02fc1121ab89",
   "metadata": {},
   "source": [
    "#### From the above example We understood is: Python recognizes latest overloading method and provide output"
   ]
  },
  {
   "cell_type": "markdown",
   "id": "a46b8ede-9587-44b9-8845-61083f03d8e3",
   "metadata": {},
   "source": [
    "#### Alternative method"
   ]
  },
  {
   "cell_type": "markdown",
   "id": "86bbdd6a-c224-435a-9858-8d96e2f6688c",
   "metadata": {},
   "source": [
    "#### Python is unable to ovreload, for that it used standard library named \"multipledispatch\""
   ]
  },
  {
   "cell_type": "markdown",
   "id": "95d3e650-8de6-4316-93ff-0fc6efb6b5ec",
   "metadata": {},
   "source": [
    "#### Go to your anaconda prompt\n",
    "type pip install multipledispatch"
   ]
  },
  {
   "cell_type": "code",
   "execution_count": 12,
   "id": "4499cfe6-6d98-492e-924c-ebac9ebffec6",
   "metadata": {},
   "outputs": [
    {
     "name": "stdout",
     "output_type": "stream",
     "text": [
      "6000\n",
      "200\n"
     ]
    }
   ],
   "source": [
    "from multipledispatch import dispatch\n",
    "\n",
    "class multiplication:\n",
    "    \n",
    "    @dispatch(int, int)\n",
    "    def product(a, b):\n",
    "      p = a * b\n",
    "      return p\n",
    "        \n",
    "    @dispatch(int, int, int)\n",
    "    def product(a, b, c):\n",
    "      p = a * b * c\n",
    "      return p\n",
    "\n",
    "mult = multiplication()\n",
    "\n",
    "print (mult.product(10,20,30))\n",
    "print (mult.product(10,20))"
   ]
  },
  {
   "cell_type": "markdown",
   "id": "62885b54-7f40-455c-a4fb-bb15a60855c8",
   "metadata": {},
   "source": [
    "#### Single Inheritance"
   ]
  },
  {
   "cell_type": "code",
   "execution_count": 66,
   "id": "caa92bb4-97b1-4af1-823a-b3761991aebe",
   "metadata": {},
   "outputs": [
    {
     "name": "stdout",
     "output_type": "stream",
     "text": [
      "This is from the parent class.\n",
      "This is from the child class.\n"
     ]
    }
   ],
   "source": [
    "    class Parent:\n",
    "        def parent_method(self):\n",
    "            print(\"This is from the parent class.\")\n",
    "\n",
    "    class Child(Parent):\n",
    "        def child_method(self):\n",
    "            print(\"This is from the child class.\")\n",
    "\n",
    "    c = Child()\n",
    "    c.parent_method()\n",
    "    c.child_method()"
   ]
  },
  {
   "cell_type": "markdown",
   "id": "a3d01854-0db6-483c-9257-7ac3f3a51ee2",
   "metadata": {},
   "source": [
    "#### Multiple Inheritance"
   ]
  },
  {
   "cell_type": "code",
   "execution_count": 77,
   "id": "afbfc503-154b-4a33-b462-72d395a683d6",
   "metadata": {},
   "outputs": [
    {
     "name": "stdout",
     "output_type": "stream",
     "text": [
      "Mother's trait.\n",
      "Father's trait.\n",
      "Child's own trait.\n"
     ]
    }
   ],
   "source": [
    "class Mother:\n",
    "        def mother_trait(self):\n",
    "            print(\"Mother's trait.\")\n",
    "\n",
    "class Father:\n",
    "        def father_trait(self):\n",
    "            print(\"Father's trait.\")\n",
    "\n",
    "class Child(Mother, Father):\n",
    "        def child_trait(self):\n",
    "            print(\"Child's own trait.\")\n",
    "\n",
    "c = Child()\n",
    "c.mother_trait()\n",
    "c.father_trait()\n",
    "c.child_trait()"
   ]
  },
  {
   "cell_type": "markdown",
   "id": "b4c70414-1ab4-4d12-bc42-fa37b1523d0d",
   "metadata": {},
   "source": [
    "#### Multilevel Inheritance:"
   ]
  },
  {
   "cell_type": "code",
   "execution_count": 80,
   "id": "7307fad0-d410-442c-9c00-66b454af4b36",
   "metadata": {},
   "outputs": [
    {
     "name": "stdout",
     "output_type": "stream",
     "text": [
      "Grandparent's wisdom.\n",
      "Parent's guidance.\n",
      "Child's learning.\n"
     ]
    }
   ],
   "source": [
    "class Grandparent:\n",
    "        def grandparent_method(self):\n",
    "            print(\"Grandparent's wisdom.\")\n",
    "\n",
    "class Parent(Grandparent):\n",
    "        def parent_method(self):\n",
    "            print(\"Parent's guidance.\")\n",
    "\n",
    "class Child(Parent):\n",
    "        def child_method(self):\n",
    "            print(\"Child's learning.\")\n",
    "\n",
    "c = Child()\n",
    "c.grandparent_method()\n",
    "c.parent_method()\n",
    "c.child_method()"
   ]
  },
  {
   "cell_type": "markdown",
   "id": "5b7970ee-b3a9-4de1-a87e-f23817f01af8",
   "metadata": {},
   "source": [
    "#### Hierarchical Inheritance"
   ]
  },
  {
   "cell_type": "code",
   "execution_count": 84,
   "id": "8a2bf3db-7104-46bb-9783-8b97b1d35feb",
   "metadata": {},
   "outputs": [
    {
     "name": "stdout",
     "output_type": "stream",
     "text": [
      "Woof!\n",
      "Meow!\n"
     ]
    }
   ],
   "source": [
    "class Animal:\n",
    "        def speak(self):\n",
    "            pass\n",
    "\n",
    "class Dog(Animal):\n",
    "        def speak(self):\n",
    "            print(\"Woof!\")\n",
    "\n",
    "class Cat(Animal):\n",
    "        def speak(self):\n",
    "            print(\"Meow!\")\n",
    "\n",
    "dog = Dog()\n",
    "cat = Cat()\n",
    "dog.speak()\n",
    "cat.speak()"
   ]
  },
  {
   "cell_type": "markdown",
   "id": "39eeddc7-4454-468e-b260-f1262034c925",
   "metadata": {},
   "source": [
    "#### Hybrid Inheritance:"
   ]
  },
  {
   "cell_type": "code",
   "execution_count": 86,
   "id": "3d4b8a87-64a5-40da-8478-7c6136d7c388",
   "metadata": {},
   "outputs": [
    {
     "name": "stdout",
     "output_type": "stream",
     "text": [
      "Vehicle moves.\n",
      "Drives on land.\n",
      "Sails on water.\n",
      "Can operate on land and water.\n"
     ]
    }
   ],
   "source": [
    "class Vehicle:\n",
    "        def move(self):\n",
    "            print(\"Vehicle moves.\")\n",
    "\n",
    "class LandVehicle(Vehicle):\n",
    "        def drive(self):\n",
    "            print(\"Drives on land.\")\n",
    "\n",
    "class WaterVehicle(Vehicle):\n",
    "        def sail(self):\n",
    "            print(\"Sails on water.\")\n",
    "\n",
    "class AmphibiousVehicle(LandVehicle, WaterVehicle):\n",
    "        def operate(self):\n",
    "            print(\"Can operate on land and water.\")\n",
    "\n",
    "amphibious = AmphibiousVehicle()\n",
    "amphibious.move()\n",
    "amphibious.drive()\n",
    "amphibious.sail()\n",
    "amphibious.operate()"
   ]
  },
  {
   "cell_type": "markdown",
   "id": "89a86f44-19ea-4a6b-b956-095f6f2f8262",
   "metadata": {},
   "source": [
    "#### Using super()"
   ]
  },
  {
   "cell_type": "markdown",
   "id": "3c7baf8a-1631-45ba-8670-645c38402757",
   "metadata": {},
   "source": [
    "#### The super() function is used to call methods of the parent class from within the child class, especially useful when overriding methods or calling the parent's __init__ method."
   ]
  },
  {
   "cell_type": "code",
   "execution_count": 13,
   "id": "51dae949-9279-450c-9de1-470570f3fc6c",
   "metadata": {},
   "outputs": [
    {
     "name": "stdout",
     "output_type": "stream",
     "text": [
      "I am a manager and my id is 1.\n",
      "I am an employee and my name is Pawan\n"
     ]
    }
   ],
   "source": [
    "class Manager:\n",
    "    def __init__(self, id):\n",
    "        self.id = id\n",
    "\n",
    "    def details(self):\n",
    "        print(f\"I am a manager and my id is {self.id}.\")\n",
    "\n",
    "class Employee(Manager):\n",
    "    def __init__(self, id, name):\n",
    "        super().__init__(id)  # Call parent's __init__\n",
    "        self.name = name\n",
    "\n",
    "    def details(self):\n",
    "        super().details() # Call parent's details\n",
    "        print(f\"I am an employee and my name is {self.name}\")\n",
    "\n",
    "emp = Employee(1, \"Pawan\")\n",
    "emp.details()"
   ]
  },
  {
   "cell_type": "code",
   "execution_count": null,
   "id": "331c2210-14dc-4f72-9405-e90df393a5c2",
   "metadata": {},
   "outputs": [],
   "source": []
  }
 ],
 "metadata": {
  "kernelspec": {
   "display_name": "Python 3 (ipykernel)",
   "language": "python",
   "name": "python3"
  },
  "language_info": {
   "codemirror_mode": {
    "name": "ipython",
    "version": 3
   },
   "file_extension": ".py",
   "mimetype": "text/x-python",
   "name": "python",
   "nbconvert_exporter": "python",
   "pygments_lexer": "ipython3",
   "version": "3.13.5"
  }
 },
 "nbformat": 4,
 "nbformat_minor": 5
}
